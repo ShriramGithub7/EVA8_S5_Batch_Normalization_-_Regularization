{
  "cells": [
    {
      "cell_type": "markdown",
      "metadata": {
        "id": "view-in-github",
        "colab_type": "text"
      },
      "source": [
        "<a href=\"https://colab.research.google.com/github/ShriramGithub7/EVA8_S5_Batch_Normalization_-_Regularization/blob/main/EVA8_Session_5_Batch_Normalization_%26_Regularization.ipynb\" target=\"_parent\"><img src=\"https://colab.research.google.com/assets/colab-badge.svg\" alt=\"Open In Colab\"/></a>"
      ]
    },
    {
      "cell_type": "markdown",
      "source": [
        "# Mount Google Drive, load mymodel.py file and create model object"
      ],
      "metadata": {
        "id": "yqM346nXYuyc"
      }
    },
    {
      "cell_type": "code",
      "source": [
        "from google.colab import drive\n",
        "drive.mount('/content/drive', force_remount=True)"
      ],
      "metadata": {
        "colab": {
          "base_uri": "https://localhost:8080/"
        },
        "id": "mpO_yvk0Tscp",
        "outputId": "b1612daf-aadc-4e6a-a28b-3224072a1516"
      },
      "execution_count": 4,
      "outputs": [
        {
          "output_type": "stream",
          "name": "stdout",
          "text": [
            "Mounted at /content/drive\n"
          ]
        }
      ]
    },
    {
      "cell_type": "markdown",
      "source": [
        "Load the model.py file"
      ],
      "metadata": {
        "id": "Y3mhjKoBj21V"
      }
    },
    {
      "cell_type": "code",
      "source": [
        "!cp /content/drive/MyDrive/mymodel.py .\n"
      ],
      "metadata": {
        "id": "mi2b8jF4hn0O"
      },
      "execution_count": 5,
      "outputs": []
    },
    {
      "cell_type": "markdown",
      "source": [
        "Create model object"
      ],
      "metadata": {
        "id": "NGbdeqCPj_31"
      }
    },
    {
      "cell_type": "code",
      "source": [
        "import mymodel\n",
        "model = mymodel.Net()"
      ],
      "metadata": {
        "id": "7RjPM47Tle0p"
      },
      "execution_count": 6,
      "outputs": []
    },
    {
      "cell_type": "markdown",
      "source": [
        "# Import libraries"
      ],
      "metadata": {
        "id": "7LdlBih6f_du"
      }
    },
    {
      "cell_type": "code",
      "source": [
        "import torch \n",
        "import torch.nn as nn\n",
        "import torch.nn.functional as F\n",
        "import torch.optim as optim\n",
        "from torchvision import datasets, transforms\n",
        "from __future__ import print_function"
      ],
      "metadata": {
        "id": "GAIsaPO5LRI4"
      },
      "execution_count": 7,
      "outputs": []
    },
    {
      "cell_type": "markdown",
      "source": [
        "# Find mean and std deviation of the data"
      ],
      "metadata": {
        "id": "QfoL3h5KbcNe"
      }
    },
    {
      "cell_type": "code",
      "source": [
        "testing_transofrms = transforms.Compose([transforms.ToTensor()])\n",
        "exp= datasets.MNIST('.data/', train=True, download=True, transform=testing_transofrms)\n",
        "exp_data = exp.train_data\n",
        "exp_data=exp.transform(exp_data.numpy())\n"
      ],
      "metadata": {
        "id": "N7mDncbabgo8",
        "colab": {
          "base_uri": "https://localhost:8080/",
          "height": 457,
          "referenced_widgets": [
            "41c53dd0d37e4c4bbf8d95c9f2b950ac",
            "a236c87a0b6d4eb681a19b14762d2750",
            "59963a6767a048ecb04a0ea8ee8c38b0",
            "5615c7fab5b24ca4a9042aeab2332fb1",
            "54b577003c414bd6bfca7b096eb40637",
            "a115f6b64f7747918051625af2a53fd7",
            "7e898b7d5227409699fca2e5490b0017",
            "37abb8fd2a4545f0bec50dee172dfd72",
            "6c0599f23e9a43bb81c88adcb5854f06",
            "c2ebe0de9f4b4962859f95d097266ef6",
            "955b4caadc9a49d3b73fe17849cca7a4",
            "df334e195e1e4cd2910805646bf9f9ed",
            "7a2571a6917b4956bcd3336caf914827",
            "aa785545829c40b28161b3f33e9743e4",
            "93595db6035b488ca7d2591b38cd50c7",
            "a6fd25a2ff3e4c4b9645c48694e57337",
            "68fad5f876de4dfeb79cf9fc9e9f45e5",
            "21fc008c982646d39465d3ee91b84e2f",
            "6f31f0b0e93549e2b54d0588bfdee1ef",
            "6a39dd66a23442cb9412a6734cbbf77e",
            "e737629748e047618d96f9a2f40257e3",
            "51cead7a8c6c4ed0bdf549c20cc185aa",
            "38bc496a0ac74b0b88e013785217111f",
            "cef453af07994fe99aca69816ce5a2a9",
            "8b46f3e44b54445d816a180d37dace37",
            "de6e6e050c794ebcab279d281dc8746b",
            "aad4de8385fc45dd95828610dbc7ecf9",
            "21a5849bbc3d4a1093792bbaa3b0e9c8",
            "5d6ce81c06fa4a18ad31d80858e61cfd",
            "6fbd8c2fdf134f5c83c5d5a00ffd0061",
            "5ed12bbd235d42bd9e8546454bad1945",
            "c86f5cdc4abb4071a6ecdee64c72ea38",
            "1559d0ba92ac4b7ab379be7d57afeade",
            "50261a30244f49ffb7f0a3c01fd73b04",
            "0784530c6bd24c11ae52326f3a460764",
            "f668f20721074970b39f883c2349a6df",
            "8fc7ddc5195f44afa20334615781122a",
            "765f3df786fe4a65a4e3563c204d49df",
            "99d6676ff67e47aab151077d1efcbce4",
            "5becb21b5eac484d9d336e104d15d810",
            "a10f8db1e03c4295a7fb7336c38b3cfc",
            "eb826df7111442b2bac43ebca198bee2",
            "356a6d255ee646048e5b789fd8f22bde",
            "c656dd336cca4adfa835a5351bb0d39a"
          ]
        },
        "outputId": "c6db5d5a-374f-405e-bb04-1a963f203f77"
      },
      "execution_count": 8,
      "outputs": [
        {
          "output_type": "stream",
          "name": "stdout",
          "text": [
            "Downloading http://yann.lecun.com/exdb/mnist/train-images-idx3-ubyte.gz\n",
            "Downloading http://yann.lecun.com/exdb/mnist/train-images-idx3-ubyte.gz to .data/MNIST/raw/train-images-idx3-ubyte.gz\n"
          ]
        },
        {
          "output_type": "display_data",
          "data": {
            "text/plain": [
              "  0%|          | 0/9912422 [00:00<?, ?it/s]"
            ],
            "application/vnd.jupyter.widget-view+json": {
              "version_major": 2,
              "version_minor": 0,
              "model_id": "41c53dd0d37e4c4bbf8d95c9f2b950ac"
            }
          },
          "metadata": {}
        },
        {
          "output_type": "stream",
          "name": "stdout",
          "text": [
            "Extracting .data/MNIST/raw/train-images-idx3-ubyte.gz to .data/MNIST/raw\n",
            "\n",
            "Downloading http://yann.lecun.com/exdb/mnist/train-labels-idx1-ubyte.gz\n",
            "Downloading http://yann.lecun.com/exdb/mnist/train-labels-idx1-ubyte.gz to .data/MNIST/raw/train-labels-idx1-ubyte.gz\n"
          ]
        },
        {
          "output_type": "display_data",
          "data": {
            "text/plain": [
              "  0%|          | 0/28881 [00:00<?, ?it/s]"
            ],
            "application/vnd.jupyter.widget-view+json": {
              "version_major": 2,
              "version_minor": 0,
              "model_id": "df334e195e1e4cd2910805646bf9f9ed"
            }
          },
          "metadata": {}
        },
        {
          "output_type": "stream",
          "name": "stdout",
          "text": [
            "Extracting .data/MNIST/raw/train-labels-idx1-ubyte.gz to .data/MNIST/raw\n",
            "\n",
            "Downloading http://yann.lecun.com/exdb/mnist/t10k-images-idx3-ubyte.gz\n",
            "Downloading http://yann.lecun.com/exdb/mnist/t10k-images-idx3-ubyte.gz to .data/MNIST/raw/t10k-images-idx3-ubyte.gz\n"
          ]
        },
        {
          "output_type": "display_data",
          "data": {
            "text/plain": [
              "  0%|          | 0/1648877 [00:00<?, ?it/s]"
            ],
            "application/vnd.jupyter.widget-view+json": {
              "version_major": 2,
              "version_minor": 0,
              "model_id": "38bc496a0ac74b0b88e013785217111f"
            }
          },
          "metadata": {}
        },
        {
          "output_type": "stream",
          "name": "stdout",
          "text": [
            "Extracting .data/MNIST/raw/t10k-images-idx3-ubyte.gz to .data/MNIST/raw\n",
            "\n",
            "Downloading http://yann.lecun.com/exdb/mnist/t10k-labels-idx1-ubyte.gz\n",
            "Downloading http://yann.lecun.com/exdb/mnist/t10k-labels-idx1-ubyte.gz to .data/MNIST/raw/t10k-labels-idx1-ubyte.gz\n"
          ]
        },
        {
          "output_type": "display_data",
          "data": {
            "text/plain": [
              "  0%|          | 0/4542 [00:00<?, ?it/s]"
            ],
            "application/vnd.jupyter.widget-view+json": {
              "version_major": 2,
              "version_minor": 0,
              "model_id": "50261a30244f49ffb7f0a3c01fd73b04"
            }
          },
          "metadata": {}
        },
        {
          "output_type": "stream",
          "name": "stdout",
          "text": [
            "Extracting .data/MNIST/raw/t10k-labels-idx1-ubyte.gz to .data/MNIST/raw\n",
            "\n"
          ]
        },
        {
          "output_type": "stream",
          "name": "stderr",
          "text": [
            "/usr/local/lib/python3.8/dist-packages/torchvision/datasets/mnist.py:75: UserWarning: train_data has been renamed data\n",
            "  warnings.warn(\"train_data has been renamed data\")\n"
          ]
        }
      ]
    },
    {
      "cell_type": "code",
      "source": [
        "print('shape - ', exp_data.shape)\n",
        "print('size - ', exp_data.size())\n",
        "print('min - ', exp_data.min())\n",
        "print('max - ', exp_data.max())\n",
        "print('mean - ', exp_data.mean())\n",
        "print('std - ', exp_data.std())\n",
        "print('var - ', exp_data.var())"
      ],
      "metadata": {
        "colab": {
          "base_uri": "https://localhost:8080/"
        },
        "id": "7IRiQ3e4dEwb",
        "outputId": "95a15515-f9b6-4898-de74-a85cd5ed9de1"
      },
      "execution_count": 9,
      "outputs": [
        {
          "output_type": "stream",
          "name": "stdout",
          "text": [
            "shape -  torch.Size([28, 60000, 28])\n",
            "size -  torch.Size([28, 60000, 28])\n",
            "min -  tensor(0.)\n",
            "max -  tensor(1.)\n",
            "mean -  tensor(0.1307)\n",
            "std -  tensor(0.3081)\n",
            "var -  tensor(0.0949)\n"
          ]
        }
      ]
    },
    {
      "cell_type": "markdown",
      "source": [
        "# Data transformation"
      ],
      "metadata": {
        "id": "HIGsFxf9Zd_l"
      }
    },
    {
      "cell_type": "code",
      "source": [
        "#training data transormation\n",
        "\n",
        "train_transforms = transforms.Compose([transforms.ToTensor(),\n",
        "                                       transforms.Normalize((0.1307), (0.3081)),\n",
        "                                       transforms.RandomRotation((-7.0, 7.0), fill=(255,))\n",
        "                                      ])\n",
        "\n",
        "#testing data transformation\n",
        "test_transforms = transforms.Compose([transforms.ToTensor(),\n",
        "                                      transforms.Normalize((0.1307), (0.3081))])"
      ],
      "metadata": {
        "id": "Ulv5YHEeZW0u"
      },
      "execution_count": 10,
      "outputs": []
    },
    {
      "cell_type": "markdown",
      "source": [
        "# Load data, split it in train/test and apply transform "
      ],
      "metadata": {
        "id": "-uUU8oqOg_ok"
      }
    },
    {
      "cell_type": "code",
      "source": [
        "train = datasets.MNIST('.data/', train=True, download = True, transform=train_transforms)\n",
        "test = datasets.MNIST('.data/', train=False, download = True, transform=test_transforms)"
      ],
      "metadata": {
        "id": "dt4d2Ammg91d"
      },
      "execution_count": 11,
      "outputs": []
    },
    {
      "cell_type": "markdown",
      "source": [
        "# Dataloader arguments and Train/Test Dataloaders"
      ],
      "metadata": {
        "id": "2m9syC6yi_2c"
      }
    },
    {
      "cell_type": "code",
      "source": [
        "from torch.utils.data import dataloader\n",
        "SEED = 1\n",
        "\n",
        "cuda = torch.cuda.is_available()\n",
        "print(\"CUDA available - \", cuda)\n",
        "\n",
        "torch.manual_seed(SEED)\n",
        "\n",
        "if cuda:\n",
        "  torch.cuda.manual_seed(SEED)\n",
        "\n",
        "dataloader_args = dict(shuffle=True, batch_size=128, num_workers=4, pin_memory=True) if cuda else dict(shuffle=True, batch_size=64)\n",
        "\n",
        "train_loader=torch.utils.data.DataLoader(train, **dataloader_args)\n",
        "\n",
        "test_loader=torch.utils.data.DataLoader(test, **dataloader_args)\n"
      ],
      "metadata": {
        "colab": {
          "base_uri": "https://localhost:8080/"
        },
        "id": "jBj12Pn1i_B-",
        "outputId": "7217b6f4-c238-4121-acb7-6851ce9a2019"
      },
      "execution_count": 12,
      "outputs": [
        {
          "output_type": "stream",
          "name": "stdout",
          "text": [
            "CUDA available -  True\n"
          ]
        },
        {
          "output_type": "stream",
          "name": "stderr",
          "text": [
            "/usr/local/lib/python3.8/dist-packages/torch/utils/data/dataloader.py:554: UserWarning: This DataLoader will create 4 worker processes in total. Our suggested max number of worker in current system is 2, which is smaller than what this DataLoader is going to create. Please be aware that excessive worker creation might get DataLoader running slow or even freeze, lower the worker number to avoid potential slowness/freeze if necessary.\n",
            "  warnings.warn(_create_warning_msg(\n"
          ]
        }
      ]
    },
    {
      "cell_type": "markdown",
      "source": [
        "# View few images"
      ],
      "metadata": {
        "id": "bHiYZMYCE_UZ"
      }
    },
    {
      "cell_type": "code",
      "source": [
        "%matplotlib inline\n",
        "import matplotlib.pyplot as plt\n",
        "\n",
        "dataiter = iter(train_loader)\n",
        "images, labels = next(dataiter)\n",
        "\n",
        "print(images.shape)\n",
        "print(labels.shape)\n",
        "\n",
        "plt.imshow(images[0].numpy().squeeze(),cmap='gray_r')"
      ],
      "metadata": {
        "colab": {
          "base_uri": "https://localhost:8080/",
          "height": 317
        },
        "id": "K8hZCK9NG2uT",
        "outputId": "6db31e36-c717-4dc0-bf76-f895c8648fc6"
      },
      "execution_count": 13,
      "outputs": [
        {
          "output_type": "stream",
          "name": "stdout",
          "text": [
            "torch.Size([128, 1, 28, 28])\n",
            "torch.Size([128])\n"
          ]
        },
        {
          "output_type": "execute_result",
          "data": {
            "text/plain": [
              "<matplotlib.image.AxesImage at 0x7f5f4833a940>"
            ]
          },
          "metadata": {},
          "execution_count": 13
        },
        {
          "output_type": "display_data",
          "data": {
            "text/plain": [
              "<Figure size 432x288 with 1 Axes>"
            ],
            "image/png": "[encoded data removed]"
          },
          "metadata": {
            "needs_background": "light"
          }
        }
      ]
    },
    {
      "cell_type": "code",
      "source": [
        "figure = plt.figure()\n",
        "num_of_images=60\n",
        "for index in range (1, num_of_images+1):\n",
        "  plt.subplot(6, 10, index)\n",
        "  plt.axis('off')\n",
        "  plt.imshow(images[index].numpy().squeeze(),cmap='gray_r')\n",
        "\n"
      ],
      "metadata": {
        "colab": {
          "base_uri": "https://localhost:8080/",
          "height": 246
        },
        "id": "aRofC0p7GYvv",
        "outputId": "936d5f5d-2b9c-4d2a-e684-30b6004f9ea9"
      },
      "execution_count": 14,
      "outputs": [
        {
          "output_type": "display_data",
          "data": {
            "text/plain": [
              "<Figure size 432x288 with 60 Axes>"
            ],
            "image/png": "[encoded data removed]"
          },
          "metadata": {
            "needs_background": "light"
          }
        }
      ]
    },
    {
      "cell_type": "code",
      "source": [
        "!pip install torchsummary\n",
        "from torchsummary import summary\n",
        "use_cuda = torch.cuda.is_available()\n",
        "device = torch.device(\"cuda\" if use_cuda else \"cpu\")\n",
        "print(device)\n"
      ],
      "metadata": {
        "colab": {
          "base_uri": "https://localhost:8080/"
        },
        "id": "ir6Y8HV0Rzct",
        "outputId": "08431cc8-4d6b-4260-e574-29fd0b242342"
      },
      "execution_count": 15,
      "outputs": [
        {
          "output_type": "stream",
          "name": "stdout",
          "text": [
            "Looking in indexes: https://pypi.org/simple, https://us-python.pkg.dev/colab-wheels/public/simple/\n",
            "Requirement already satisfied: torchsummary in /usr/local/lib/python3.8/dist-packages (1.5.1)\n",
            "cuda\n"
          ]
        }
      ]
    },
    {
      "cell_type": "markdown",
      "source": [
        "# Training and Testing - Group Normalization"
      ],
      "metadata": {
        "id": "JYK7yXjPVk4o"
      }
    },
    {
      "cell_type": "code",
      "source": [
        "model = mymodel.Net()"
      ],
      "metadata": {
        "id": "f8ZZlCpGMjsU"
      },
      "execution_count": 16,
      "outputs": []
    },
    {
      "cell_type": "code",
      "source": [
        "from tqdm import tqdm\n",
        "import matplotlib.pyplot as plt\n",
        "import numpy\n",
        "\n",
        "train_losses_group = []\n",
        "test_losses_group = []\n",
        "train_acc_group = []\n",
        "test_acc_group = []\n",
        "type_of_norm = 'gn'\n",
        "\n",
        "def train(model, device, train_loader, optimizer, epoch):\n",
        "  model.train()\n",
        "  pbar = tqdm(train_loader)\n",
        "  correct = 0\n",
        "  processed = 0\n",
        "  for batch_idx, (data, target) in enumerate(pbar):\n",
        "    # get samples\n",
        "    data, target = data.to(device), target.to(device)\n",
        "\n",
        "    # Init\n",
        "    optimizer.zero_grad()\n",
        "  \n",
        "    # Predict\n",
        "    y_pred = model(data, type_of_norm)\n",
        "\n",
        "    # Calculate loss\n",
        "    loss = F.nll_loss(y_pred, target)\n",
        "    train_losses_group.append(loss.item())\n",
        "\n",
        "    # Backpropagation\n",
        "    loss.backward()\n",
        "    optimizer.step()\n",
        "\n",
        "    pred = y_pred.argmax(dim=1, keepdim=True)  \n",
        "    correct += pred.eq(target.view_as(pred)).sum().item()\n",
        "    processed += len(data)\n",
        "\n",
        "    pbar.set_description(desc= f'Loss={loss.item()} Batch_id={batch_idx} Accuracy={100*correct/processed:0.2f}')\n",
        "    train_acc_group.append(100*correct/processed)\n",
        "\n",
        "def test(model, device, test_loader, print_misclassified):\n",
        "    model.eval()\n",
        "    test_loss = 0\n",
        "    correct = 0\n",
        "    misclassified_groupNorm = []\n",
        "    print_misclassified = print_misclassified\n",
        "       \n",
        "    with torch.no_grad():\n",
        "        for data, target in test_loader:\n",
        "            data, target = data.to(device), target.to(device)\n",
        "            output = model(data, type_of_norm)\n",
        "            test_loss += F.nll_loss(output, target, reduction='sum').item()  # sum up batch loss\n",
        "            pred = output.argmax(dim=1, keepdim=True)  # get the index of the max log-probability\n",
        "            correct += pred.eq(target.view_as(pred)).sum().item()\n",
        "\n",
        "            # Identify misclassified images\n",
        "            incorrect = pred.ne(target.view_as(pred))\n",
        "            misclassified_groupNorm.extend(data[incorrect])\n",
        "            \n",
        "            \n",
        "\n",
        "    test_loss /= len(test_loader.dataset)\n",
        "    test_losses_group.append(test_loss)\n",
        "\n",
        "    print('\\nTest set: Average loss: {:.4f}, Accuracy: {}/{} ({:.2f}%)\\n'.format(\n",
        "        test_loss, correct, len(test_loader.dataset),\n",
        "        100. * correct / len(test_loader.dataset)))\n",
        "    \n",
        "    test_acc_group.append(100. * correct / len(test_loader.dataset))\n",
        " \n",
        "    counter = 1\n",
        "    if print_misclassified:\n",
        "      #fig, axs = plt.subplots(2,5, figsize=(10, 5))\n",
        "\n",
        "      import matplotlib.pyplot as plt\n",
        "\n",
        "      # Determine the number of rows and columns for the subplots\n",
        "      rows = 2\n",
        "      cols = 5\n",
        "\n",
        "      # Use plt.subplots to create the subplots\n",
        "      fig, axs = plt.subplots(rows, cols, figsize=(10, 5))\n",
        "      axs = axs.ravel()\n",
        "\n",
        "      # Plot the misclassified images in the subplots\n",
        "      for i, image in enumerate(misclassified_groupNorm[:10]):\n",
        "          axs[i].imshow(image.squeeze().cpu().numpy(), cmap='gray_r')\n",
        "          axs[i].set_title(f\"True label: {target[i].item()}\", fontweight='bold')\n",
        "\n",
        "      # Remove unused subplots\n",
        "      for i in range(10, rows * cols):\n",
        "          fig.delaxes(axs[i])\n",
        "      \n",
        "      plt.suptitle(\"Misclassified Images - GroupNorm\", fontsize=15, fontweight='bold')\n",
        "\n",
        "      # Show the plot\n",
        "      plt.show()\n",
        "\n",
        "  "
      ],
      "metadata": {
        "id": "hYKuC9FYOTZI"
      },
      "execution_count": 60,
      "outputs": []
    },
    {
      "cell_type": "markdown",
      "source": [
        "# Train the model for Group Normalization and plot misclassified images\n"
      ],
      "metadata": {
        "id": "jqkyDTY9X9zs"
      }
    },
    {
      "cell_type": "code",
      "source": [
        "from torch.optim.lr_scheduler import StepLR\n",
        "\n",
        "model =  mymodel.Net().to(device)\n",
        "#model =  Net().to(device)\n",
        "optimizer = optim.SGD(model.parameters(), lr=0.01, momentum=0.9)\n",
        "scheduler = StepLR(optimizer, step_size=4, gamma=0.1)\n",
        "\n",
        "EPOCHS = 20\n",
        "print_misclassified = False\n",
        "\n",
        "for epoch in range(EPOCHS):\n",
        "    print('epoch: ', epoch)\n",
        "    train(model, device, train_loader, optimizer, epoch)\n",
        "    scheduler.step()\n",
        "    \n",
        "    if epoch == EPOCHS - 1:\n",
        "      print_misclassified = True\n",
        "\n",
        "    test(model, device, test_loader, print_misclassified)\n",
        "    \n"
      ],
      "metadata": {
        "id": "tSYQSGQVYAXw",
        "colab": {
          "base_uri": "https://localhost:8080/",
          "height": 1000
        },
        "outputId": "05c83f39-1a95-4814-abd3-c749025d686e"
      },
      "execution_count": 61,
      "outputs": [
        {
          "output_type": "stream",
          "name": "stdout",
          "text": [
            "epoch:  0\n"
          ]
        },
        {
          "output_type": "stream",
          "name": "stderr",
          "text": [
            "Loss=0.5875850319862366 Batch_id=468 Accuracy=51.57: 100%|██████████| 469/469 [00:29<00:00, 15.85it/s]\n"
          ]
        },
        {
          "output_type": "stream",
          "name": "stdout",
          "text": [
            "\n",
            "Test set: Average loss: 0.2924, Accuracy: 9370/10000 (93.70%)\n",
            "\n",
            "epoch:  1\n"
          ]
        },
        {
          "output_type": "stream",
          "name": "stderr",
          "text": [
            "Loss=0.2086551934480667 Batch_id=468 Accuracy=93.33: 100%|██████████| 469/469 [00:30<00:00, 15.58it/s]\n"
          ]
        },
        {
          "output_type": "stream",
          "name": "stdout",
          "text": [
            "\n",
            "Test set: Average loss: 0.0962, Accuracy: 9738/10000 (97.38%)\n",
            "\n",
            "epoch:  2\n"
          ]
        },
        {
          "output_type": "stream",
          "name": "stderr",
          "text": [
            "Loss=0.11023662239313126 Batch_id=468 Accuracy=96.20: 100%|██████████| 469/469 [00:29<00:00, 15.83it/s]\n"
          ]
        },
        {
          "output_type": "stream",
          "name": "stdout",
          "text": [
            "\n",
            "Test set: Average loss: 0.0588, Accuracy: 9824/10000 (98.24%)\n",
            "\n",
            "epoch:  3\n"
          ]
        },
        {
          "output_type": "stream",
          "name": "stderr",
          "text": [
            "Loss=0.06125197187066078 Batch_id=468 Accuracy=96.94: 100%|██████████| 469/469 [00:29<00:00, 15.66it/s]\n"
          ]
        },
        {
          "output_type": "stream",
          "name": "stdout",
          "text": [
            "\n",
            "Test set: Average loss: 0.0495, Accuracy: 9857/10000 (98.57%)\n",
            "\n",
            "epoch:  4\n"
          ]
        },
        {
          "output_type": "stream",
          "name": "stderr",
          "text": [
            "Loss=0.07649307698011398 Batch_id=468 Accuracy=97.79: 100%|██████████| 469/469 [00:30<00:00, 15.17it/s]\n"
          ]
        },
        {
          "output_type": "stream",
          "name": "stdout",
          "text": [
            "\n",
            "Test set: Average loss: 0.0412, Accuracy: 9869/10000 (98.69%)\n",
            "\n",
            "epoch:  5\n"
          ]
        },
        {
          "output_type": "stream",
          "name": "stderr",
          "text": [
            "Loss=0.04712502658367157 Batch_id=468 Accuracy=97.83: 100%|██████████| 469/469 [00:29<00:00, 15.90it/s]\n"
          ]
        },
        {
          "output_type": "stream",
          "name": "stdout",
          "text": [
            "\n",
            "Test set: Average loss: 0.0409, Accuracy: 9873/10000 (98.73%)\n",
            "\n",
            "epoch:  6\n"
          ]
        },
        {
          "output_type": "stream",
          "name": "stderr",
          "text": [
            "Loss=0.09168856590986252 Batch_id=468 Accuracy=97.91: 100%|██████████| 469/469 [00:29<00:00, 16.03it/s]\n"
          ]
        },
        {
          "output_type": "stream",
          "name": "stdout",
          "text": [
            "\n",
            "Test set: Average loss: 0.0408, Accuracy: 9876/10000 (98.76%)\n",
            "\n",
            "epoch:  7\n"
          ]
        },
        {
          "output_type": "stream",
          "name": "stderr",
          "text": [
            "Loss=0.027523353695869446 Batch_id=468 Accuracy=97.96: 100%|██████████| 469/469 [00:29<00:00, 15.95it/s]\n"
          ]
        },
        {
          "output_type": "stream",
          "name": "stdout",
          "text": [
            "\n",
            "Test set: Average loss: 0.0393, Accuracy: 9876/10000 (98.76%)\n",
            "\n",
            "epoch:  8\n"
          ]
        },
        {
          "output_type": "stream",
          "name": "stderr",
          "text": [
            "Loss=0.03596023470163345 Batch_id=468 Accuracy=98.09: 100%|██████████| 469/469 [00:29<00:00, 16.17it/s]\n"
          ]
        },
        {
          "output_type": "stream",
          "name": "stdout",
          "text": [
            "\n",
            "Test set: Average loss: 0.0383, Accuracy: 9889/10000 (98.89%)\n",
            "\n",
            "epoch:  9\n"
          ]
        },
        {
          "output_type": "stream",
          "name": "stderr",
          "text": [
            "Loss=0.04327812418341637 Batch_id=468 Accuracy=98.11: 100%|██████████| 469/469 [00:29<00:00, 16.13it/s]\n"
          ]
        },
        {
          "output_type": "stream",
          "name": "stdout",
          "text": [
            "\n",
            "Test set: Average loss: 0.0381, Accuracy: 9893/10000 (98.93%)\n",
            "\n",
            "epoch:  10\n"
          ]
        },
        {
          "output_type": "stream",
          "name": "stderr",
          "text": [
            "Loss=0.06724462658166885 Batch_id=468 Accuracy=98.05: 100%|██████████| 469/469 [00:30<00:00, 15.47it/s]\n"
          ]
        },
        {
          "output_type": "stream",
          "name": "stdout",
          "text": [
            "\n",
            "Test set: Average loss: 0.0385, Accuracy: 9883/10000 (98.83%)\n",
            "\n",
            "epoch:  11\n"
          ]
        },
        {
          "output_type": "stream",
          "name": "stderr",
          "text": [
            "Loss=0.02557257004082203 Batch_id=468 Accuracy=98.02: 100%|██████████| 469/469 [00:29<00:00, 15.95it/s]\n"
          ]
        },
        {
          "output_type": "stream",
          "name": "stdout",
          "text": [
            "\n",
            "Test set: Average loss: 0.0382, Accuracy: 9885/10000 (98.85%)\n",
            "\n",
            "epoch:  12\n"
          ]
        },
        {
          "output_type": "stream",
          "name": "stderr",
          "text": [
            "Loss=0.033703189343214035 Batch_id=468 Accuracy=98.09: 100%|██████████| 469/469 [00:28<00:00, 16.18it/s]\n"
          ]
        },
        {
          "output_type": "stream",
          "name": "stdout",
          "text": [
            "\n",
            "Test set: Average loss: 0.0381, Accuracy: 9886/10000 (98.86%)\n",
            "\n",
            "epoch:  13\n"
          ]
        },
        {
          "output_type": "stream",
          "name": "stderr",
          "text": [
            "Loss=0.03469717875123024 Batch_id=468 Accuracy=98.07: 100%|██████████| 469/469 [00:29<00:00, 16.17it/s]\n"
          ]
        },
        {
          "output_type": "stream",
          "name": "stdout",
          "text": [
            "\n",
            "Test set: Average loss: 0.0381, Accuracy: 9889/10000 (98.89%)\n",
            "\n",
            "epoch:  14\n"
          ]
        },
        {
          "output_type": "stream",
          "name": "stderr",
          "text": [
            "Loss=0.026136944070458412 Batch_id=468 Accuracy=98.10: 100%|██████████| 469/469 [00:29<00:00, 16.15it/s]\n"
          ]
        },
        {
          "output_type": "stream",
          "name": "stdout",
          "text": [
            "\n",
            "Test set: Average loss: 0.0381, Accuracy: 9887/10000 (98.87%)\n",
            "\n",
            "epoch:  15\n"
          ]
        },
        {
          "output_type": "stream",
          "name": "stderr",
          "text": [
            "Loss=0.051361456513404846 Batch_id=468 Accuracy=98.08: 100%|██████████| 469/469 [00:28<00:00, 16.33it/s]\n"
          ]
        },
        {
          "output_type": "stream",
          "name": "stdout",
          "text": [
            "\n",
            "Test set: Average loss: 0.0381, Accuracy: 9888/10000 (98.88%)\n",
            "\n",
            "epoch:  16\n"
          ]
        },
        {
          "output_type": "stream",
          "name": "stderr",
          "text": [
            "Loss=0.0338248610496521 Batch_id=468 Accuracy=98.08: 100%|██████████| 469/469 [00:29<00:00, 16.01it/s]\n"
          ]
        },
        {
          "output_type": "stream",
          "name": "stdout",
          "text": [
            "\n",
            "Test set: Average loss: 0.0381, Accuracy: 9888/10000 (98.88%)\n",
            "\n",
            "epoch:  17\n"
          ]
        },
        {
          "output_type": "stream",
          "name": "stderr",
          "text": [
            "Loss=0.05954792723059654 Batch_id=468 Accuracy=98.14: 100%|██████████| 469/469 [00:29<00:00, 16.13it/s]\n"
          ]
        },
        {
          "output_type": "stream",
          "name": "stdout",
          "text": [
            "\n",
            "Test set: Average loss: 0.0381, Accuracy: 9888/10000 (98.88%)\n",
            "\n",
            "epoch:  18\n"
          ]
        },
        {
          "output_type": "stream",
          "name": "stderr",
          "text": [
            "Loss=0.02762446738779545 Batch_id=468 Accuracy=98.09: 100%|██████████| 469/469 [00:28<00:00, 16.40it/s]\n"
          ]
        },
        {
          "output_type": "stream",
          "name": "stdout",
          "text": [
            "\n",
            "Test set: Average loss: 0.0381, Accuracy: 9890/10000 (98.90%)\n",
            "\n",
            "epoch:  19\n"
          ]
        },
        {
          "output_type": "stream",
          "name": "stderr",
          "text": [
            "Loss=0.05804898217320442 Batch_id=468 Accuracy=98.11: 100%|██████████| 469/469 [00:29<00:00, 15.97it/s]\n"
          ]
        },
        {
          "output_type": "stream",
          "name": "stdout",
          "text": [
            "\n",
            "Test set: Average loss: 0.0381, Accuracy: 9888/10000 (98.88%)\n",
            "\n"
          ]
        },
        {
          "output_type": "display_data",
          "data": {
            "text/plain": [
              "<Figure size 720x360 with 10 Axes>"
            ],
            "image/png": "[encoded data removed]"
          },
          "metadata": {
            "needs_background": "light"
          }
        }
      ]
    },
    {
      "cell_type": "markdown",
      "source": [
        "# Training and Testing - Layer Normalization"
      ],
      "metadata": {
        "id": "qM8HwXhP8eoY"
      }
    },
    {
      "cell_type": "code",
      "source": [
        "from tqdm import tqdm\n",
        "import matplotlib.pyplot as plt\n",
        "\n",
        "train_losses_layer = []\n",
        "test_losses_layer = []\n",
        "train_acc_layer = []\n",
        "test_acc_layer = []\n",
        "type_of_norm = 'ln'\n",
        "\n",
        "def train(model, device, train_loader, optimizer, epoch):\n",
        "  model.train()\n",
        "  pbar = tqdm(train_loader)\n",
        "  correct = 0\n",
        "  processed = 0\n",
        "  for batch_idx, (data, target) in enumerate(pbar):\n",
        "    # get samples\n",
        "    data, target = data.to(device), target.to(device)\n",
        "\n",
        "    # Init\n",
        "    optimizer.zero_grad()\n",
        "  \n",
        "    # Predict\n",
        "    y_pred = model(data, type_of_norm)\n",
        "\n",
        "    # Calculate loss\n",
        "    loss = F.nll_loss(y_pred, target)\n",
        "    train_losses_layer.append(loss.item())\n",
        "\n",
        "    # Backpropagation\n",
        "    loss.backward()\n",
        "    optimizer.step()\n",
        "\n",
        "    pred = y_pred.argmax(dim=1, keepdim=True)  \n",
        "    correct += pred.eq(target.view_as(pred)).sum().item()\n",
        "    processed += len(data)\n",
        "\n",
        "    pbar.set_description(desc= f'Loss={loss.item()} Batch_id={batch_idx} Accuracy={100*correct/processed:0.2f}')\n",
        "    train_acc_layer.append(100*correct/processed)\n",
        "\n",
        "def test(model, device, test_loader, print_misclassified):\n",
        "    model.eval()\n",
        "    test_loss = 0\n",
        "    correct = 0\n",
        "    misclassified_layerNorm = []\n",
        "    print_misclassified = print_misclassified\n",
        "    \n",
        "    with torch.no_grad():\n",
        "        for data, target in test_loader:\n",
        "            data, target = data.to(device), target.to(device)\n",
        "            output = model(data, type_of_norm)\n",
        "            test_loss += F.nll_loss(output, target, reduction='sum').item()  # sum up batch loss\n",
        "            pred = output.argmax(dim=1, keepdim=True)  # get the index of the max log-probability\n",
        "            correct += pred.eq(target.view_as(pred)).sum().item()\n",
        "\n",
        "            # Identify misclassified images\n",
        "            incorrect = pred.ne(target.view_as(pred))\n",
        "            misclassified_layerNorm.extend(data[incorrect])\n",
        "\n",
        "    test_loss /= len(test_loader.dataset)\n",
        "    test_losses_layer.append(test_loss)\n",
        "\n",
        "    print('\\nTest set: Average loss: {:.4f}, Accuracy: {}/{} ({:.2f}%)\\n'.format(\n",
        "        test_loss, correct, len(test_loader.dataset),\n",
        "        100. * correct / len(test_loader.dataset)))\n",
        "    \n",
        "    test_acc_layer.append(100. * correct / len(test_loader.dataset))\n",
        "\n",
        "\n",
        "    counter = 1\n",
        "    if print_misclassified:\n",
        "\n",
        "      # Determine the number of rows and columns for the subplots\n",
        "      rows = 2\n",
        "      cols = 5\n",
        "\n",
        "      # Use plt.subplots to create the subplots\n",
        "      fig, axs = plt.subplots(rows, cols, figsize=(10, 5))\n",
        "      axs = axs.ravel()\n",
        "\n",
        "      # Plot the misclassified images in the subplots\n",
        "      for i, image in enumerate(misclassified_layerNorm[:10]):\n",
        "          axs[i].imshow(image.squeeze().cpu().numpy(), cmap='gray_r')\n",
        "          axs[i].set_title(f\"True label: {target[i].item()}\", fontweight='bold')\n",
        "\n",
        "      # Remove unused subplots\n",
        "      for i in range(10, rows * cols):\n",
        "          fig.delaxes(axs[i])\n",
        "      \n",
        "      plt.suptitle(\"Misclassified Images - LayerNorm\", fontsize=15, fontweight='bold')\n",
        "\n",
        "      # Show the plot\n",
        "      plt.show()\n",
        "\n"
      ],
      "metadata": {
        "id": "vtXcJVIm8fBp"
      },
      "execution_count": 63,
      "outputs": []
    },
    {
      "cell_type": "markdown",
      "source": [
        "# Train the model for Layer Normalization\n"
      ],
      "metadata": {
        "id": "1D4_QJjxhtiu"
      }
    },
    {
      "cell_type": "code",
      "source": [
        "from torch.optim.lr_scheduler import StepLR\n",
        "\n",
        "model =  mymodel.Net().to(device)\n",
        "optimizer = optim.SGD(model.parameters(), lr=0.01, momentum=0.9)\n",
        "scheduler = StepLR(optimizer, step_size=4, gamma=0.1)\n",
        "\n",
        "EPOCHS = 20\n",
        "print_misclassified = False\n",
        "for epoch in range(EPOCHS):\n",
        "    print(\"EPOCH:\", epoch)\n",
        "    train(model, device, train_loader, optimizer, epoch)\n",
        "    scheduler.step()\n",
        "\n",
        "    if epoch == EPOCHS - 1:\n",
        "      print_misclassified = True\n",
        "\n",
        "    test(model, device, test_loader, print_misclassified)"
      ],
      "metadata": {
        "colab": {
          "base_uri": "https://localhost:8080/",
          "height": 1000
        },
        "id": "y58n0wYqhzr8",
        "outputId": "a1eb0330-37ea-4e90-808e-c90d5309bfae"
      },
      "execution_count": 67,
      "outputs": [
        {
          "metadata": {
            "tags": null
          },
          "name": "stdout",
          "output_type": "stream",
          "text": [
            "EPOCH: 0\n"
          ]
        },
        {
          "metadata": {
            "tags": null
          },
          "name": "stderr",
          "output_type": "stream",
          "text": [
            "Loss=1.233934760093689 Batch_id=468 Accuracy=28.61: 100%|██████████| 469/469 [00:30<00:00, 15.57it/s]\n"
          ]
        },
        {
          "metadata": {
            "tags": null
          },
          "name": "stdout",
          "output_type": "stream",
          "text": [
            "\n",
            "Test set: Average loss: 1.1108, Accuracy: 7011/10000 (70.11%)\n",
            "\n",
            "EPOCH: 1\n"
          ]
        },
        {
          "metadata": {
            "tags": null
          },
          "name": "stderr",
          "output_type": "stream",
          "text": [
            "Loss=0.29633352160453796 Batch_id=468 Accuracy=84.15: 100%|██████████| 469/469 [00:30<00:00, 15.43it/s]\n"
          ]
        },
        {
          "metadata": {
            "tags": null
          },
          "name": "stdout",
          "output_type": "stream",
          "text": [
            "\n",
            "Test set: Average loss: 0.2063, Accuracy: 9491/10000 (94.91%)\n",
            "\n",
            "EPOCH: 2\n"
          ]
        },
        {
          "metadata": {
            "tags": null
          },
          "name": "stderr",
          "output_type": "stream",
          "text": [
            "Loss=0.25626757740974426 Batch_id=468 Accuracy=92.57: 100%|██████████| 469/469 [00:29<00:00, 15.64it/s]\n"
          ]
        },
        {
          "metadata": {
            "tags": null
          },
          "name": "stdout",
          "output_type": "stream",
          "text": [
            "\n",
            "Test set: Average loss: 0.1294, Accuracy: 9634/10000 (96.34%)\n",
            "\n",
            "EPOCH: 3\n"
          ]
        },
        {
          "metadata": {
            "tags": null
          },
          "name": "stderr",
          "output_type": "stream",
          "text": [
            "Loss=0.1705065220594406 Batch_id=468 Accuracy=93.89: 100%|██████████| 469/469 [00:30<00:00, 15.62it/s]\n"
          ]
        },
        {
          "metadata": {
            "tags": null
          },
          "name": "stdout",
          "output_type": "stream",
          "text": [
            "\n",
            "Test set: Average loss: 0.1141, Accuracy: 9690/10000 (96.90%)\n",
            "\n",
            "EPOCH: 4\n"
          ]
        },
        {
          "metadata": {
            "tags": null
          },
          "name": "stderr",
          "output_type": "stream",
          "text": [
            "Loss=0.13243313133716583 Batch_id=468 Accuracy=95.26: 100%|██████████| 469/469 [00:29<00:00, 15.72it/s]\n"
          ]
        },
        {
          "metadata": {
            "tags": null
          },
          "name": "stdout",
          "output_type": "stream",
          "text": [
            "\n",
            "Test set: Average loss: 0.0835, Accuracy: 9770/10000 (97.70%)\n",
            "\n",
            "EPOCH: 5\n"
          ]
        },
        {
          "metadata": {
            "tags": null
          },
          "name": "stderr",
          "output_type": "stream",
          "text": [
            "Loss=0.1129646822810173 Batch_id=468 Accuracy=95.73: 100%|██████████| 469/469 [00:30<00:00, 15.59it/s]\n"
          ]
        },
        {
          "metadata": {
            "tags": null
          },
          "name": "stdout",
          "output_type": "stream",
          "text": [
            "\n",
            "Test set: Average loss: 0.0815, Accuracy: 9767/10000 (97.67%)\n",
            "\n",
            "EPOCH: 6\n"
          ]
        },
        {
          "metadata": {
            "tags": null
          },
          "name": "stderr",
          "output_type": "stream",
          "text": [
            "Loss=0.17210565507411957 Batch_id=468 Accuracy=95.89: 100%|██████████| 469/469 [00:31<00:00, 14.86it/s]\n"
          ]
        },
        {
          "metadata": {
            "tags": null
          },
          "name": "stdout",
          "output_type": "stream",
          "text": [
            "\n",
            "Test set: Average loss: 0.0787, Accuracy: 9773/10000 (97.73%)\n",
            "\n",
            "EPOCH: 7\n"
          ]
        },
        {
          "metadata": {
            "tags": null
          },
          "name": "stderr",
          "output_type": "stream",
          "text": [
            "Loss=0.07107897847890854 Batch_id=468 Accuracy=95.88: 100%|██████████| 469/469 [00:30<00:00, 15.51it/s]\n"
          ]
        },
        {
          "metadata": {
            "tags": null
          },
          "name": "stdout",
          "output_type": "stream",
          "text": [
            "\n",
            "Test set: Average loss: 0.0777, Accuracy: 9780/10000 (97.80%)\n",
            "\n",
            "EPOCH: 8\n"
          ]
        },
        {
          "metadata": {
            "tags": null
          },
          "name": "stderr",
          "output_type": "stream",
          "text": [
            "Loss=0.06816437840461731 Batch_id=468 Accuracy=96.05: 100%|██████████| 469/469 [00:30<00:00, 15.26it/s]\n"
          ]
        },
        {
          "metadata": {
            "tags": null
          },
          "name": "stdout",
          "output_type": "stream",
          "text": [
            "\n",
            "Test set: Average loss: 0.0761, Accuracy: 9788/10000 (97.88%)\n",
            "\n",
            "EPOCH: 9\n"
          ]
        },
        {
          "metadata": {
            "tags": null
          },
          "name": "stderr",
          "output_type": "stream",
          "text": [
            "Loss=0.1386401206254959 Batch_id=468 Accuracy=96.16: 100%|██████████| 469/469 [00:30<00:00, 15.42it/s]\n"
          ]
        },
        {
          "metadata": {
            "tags": null
          },
          "name": "stdout",
          "output_type": "stream",
          "text": [
            "\n",
            "Test set: Average loss: 0.0755, Accuracy: 9792/10000 (97.92%)\n",
            "\n",
            "EPOCH: 10\n"
          ]
        },
        {
          "metadata": {
            "tags": null
          },
          "name": "stderr",
          "output_type": "stream",
          "text": [
            "Loss=0.16082574427127838 Batch_id=468 Accuracy=96.17: 100%|██████████| 469/469 [00:30<00:00, 15.27it/s]\n"
          ]
        },
        {
          "metadata": {
            "tags": null
          },
          "name": "stdout",
          "output_type": "stream",
          "text": [
            "\n",
            "Test set: Average loss: 0.0760, Accuracy: 9789/10000 (97.89%)\n",
            "\n",
            "EPOCH: 11\n"
          ]
        },
        {
          "metadata": {
            "tags": null
          },
          "name": "stderr",
          "output_type": "stream",
          "text": [
            "Loss=0.24626557528972626 Batch_id=468 Accuracy=96.13: 100%|██████████| 469/469 [00:30<00:00, 15.39it/s]\n"
          ]
        },
        {
          "metadata": {
            "tags": null
          },
          "name": "stdout",
          "output_type": "stream",
          "text": [
            "\n",
            "Test set: Average loss: 0.0754, Accuracy: 9797/10000 (97.97%)\n",
            "\n",
            "EPOCH: 12\n"
          ]
        },
        {
          "metadata": {
            "tags": null
          },
          "name": "stderr",
          "output_type": "stream",
          "text": [
            "Loss=0.08223117142915726 Batch_id=468 Accuracy=96.09: 100%|██████████| 469/469 [00:30<00:00, 15.53it/s]\n"
          ]
        },
        {
          "metadata": {
            "tags": null
          },
          "name": "stdout",
          "output_type": "stream",
          "text": [
            "\n",
            "Test set: Average loss: 0.0755, Accuracy: 9798/10000 (97.98%)\n",
            "\n",
            "EPOCH: 13\n"
          ]
        },
        {
          "metadata": {
            "tags": null
          },
          "name": "stderr",
          "output_type": "stream",
          "text": [
            "Loss=0.0711577832698822 Batch_id=468 Accuracy=96.09: 100%|██████████| 469/469 [00:30<00:00, 15.41it/s]\n"
          ]
        },
        {
          "metadata": {
            "tags": null
          },
          "name": "stdout",
          "output_type": "stream",
          "text": [
            "\n",
            "Test set: Average loss: 0.0755, Accuracy: 9795/10000 (97.95%)\n",
            "\n",
            "EPOCH: 14\n"
          ]
        },
        {
          "metadata": {
            "tags": null
          },
          "name": "stderr",
          "output_type": "stream",
          "text": [
            "Loss=0.21252544224262238 Batch_id=468 Accuracy=96.13: 100%|██████████| 469/469 [00:30<00:00, 15.30it/s]\n"
          ]
        },
        {
          "metadata": {
            "tags": null
          },
          "name": "stdout",
          "output_type": "stream",
          "text": [
            "\n",
            "Test set: Average loss: 0.0755, Accuracy: 9797/10000 (97.97%)\n",
            "\n",
            "EPOCH: 15\n"
          ]
        },
        {
          "metadata": {
            "tags": null
          },
          "name": "stderr",
          "output_type": "stream",
          "text": [
            "Loss=0.10798297077417374 Batch_id=468 Accuracy=96.16: 100%|██████████| 469/469 [00:30<00:00, 15.26it/s]\n"
          ]
        },
        {
          "metadata": {
            "tags": null
          },
          "name": "stdout",
          "output_type": "stream",
          "text": [
            "\n",
            "Test set: Average loss: 0.0754, Accuracy: 9797/10000 (97.97%)\n",
            "\n",
            "EPOCH: 16\n"
          ]
        },
        {
          "metadata": {
            "tags": null
          },
          "name": "stderr",
          "output_type": "stream",
          "text": [
            "Loss=0.07608658820390701 Batch_id=468 Accuracy=96.17: 100%|██████████| 469/469 [00:30<00:00, 15.37it/s]\n"
          ]
        },
        {
          "metadata": {
            "tags": null
          },
          "name": "stdout",
          "output_type": "stream",
          "text": [
            "\n",
            "Test set: Average loss: 0.0754, Accuracy: 9797/10000 (97.97%)\n",
            "\n",
            "EPOCH: 17\n"
          ]
        },
        {
          "metadata": {
            "tags": null
          },
          "name": "stderr",
          "output_type": "stream",
          "text": [
            "Loss=0.13276176154613495 Batch_id=468 Accuracy=96.12: 100%|██████████| 469/469 [00:30<00:00, 15.63it/s]\n"
          ]
        },
        {
          "metadata": {
            "tags": null
          },
          "name": "stdout",
          "output_type": "stream",
          "text": [
            "\n",
            "Test set: Average loss: 0.0754, Accuracy: 9797/10000 (97.97%)\n",
            "\n",
            "EPOCH: 18\n"
          ]
        },
        {
          "output_type": "stream",
          "name": "stderr",
          "text": [
            "Loss=0.1798080950975418 Batch_id=468 Accuracy=96.03: 100%|██████████| 469/469 [00:31<00:00, 14.71it/s]\n"
          ]
        },
        {
          "output_type": "stream",
          "name": "stdout",
          "text": [
            "\n",
            "Test set: Average loss: 0.0754, Accuracy: 9797/10000 (97.97%)\n",
            "\n",
            "EPOCH: 19\n"
          ]
        },
        {
          "output_type": "stream",
          "name": "stderr",
          "text": [
            "Loss=0.12671446800231934 Batch_id=468 Accuracy=96.05: 100%|██████████| 469/469 [00:30<00:00, 15.48it/s]\n"
          ]
        },
        {
          "output_type": "stream",
          "name": "stdout",
          "text": [
            "\n",
            "Test set: Average loss: 0.0754, Accuracy: 9797/10000 (97.97%)\n",
            "\n"
          ]
        },
        {
          "output_type": "display_data",
          "data": {
            "text/plain": [
              "<Figure size 720x360 with 10 Axes>"
            ],
            "image/png": "[encoded data removed]"
          },
          "metadata": {
            "needs_background": "light"
          }
        }
      ]
    },
    {
      "cell_type": "markdown",
      "source": [
        " # Training and Testing - Batch Normalization and L1 Regularization"
      ],
      "metadata": {
        "id": "CeXf1Pa3iAeE"
      }
    },
    {
      "cell_type": "code",
      "source": [
        "from tqdm import tqdm\n",
        "\n",
        "train_losses_batch = []\n",
        "test_losses_batch = []\n",
        "train_acc_batch = []\n",
        "test_acc_batch = []\n",
        "type_of_norm = 'bn'\n",
        "\n",
        "mse=nn.MSELoss()\n",
        "lambda_l1 = 0.01\n",
        "\n",
        "\n",
        "def train(model, device, train_loader, optimizer, epoch):\n",
        "  model.train()\n",
        "  pbar = tqdm(train_loader)\n",
        "  correct = 0\n",
        "  processed = 0\n",
        "  for batch_idx, (data, target) in enumerate(pbar):\n",
        "    # get samples\n",
        "    data, target = data.to(device), target.to(device)\n",
        "\n",
        "    # Init\n",
        "    optimizer.zero_grad()\n",
        "  \n",
        "    # Predict\n",
        "    y_pred = model(data, type_of_norm)\n",
        "\n",
        "    # Calculate loss\n",
        "    target=target.float().unsqueeze(dim=1)\n",
        "\n",
        "    loss = mse(y_pred, target)\n",
        "    l1 = 0\n",
        "    for p in model.parameters():\n",
        "      l1 = l1 + p.abs().sum()\n",
        "    loss = loss + lambda_l1 * l1\n",
        "    \n",
        "\n",
        "    # Backpropagation\n",
        "    loss.backward()\n",
        "    optimizer.step()\n",
        "\n",
        "    pred = y_pred.argmax(dim=1, keepdim=True)  \n",
        "    correct += pred.eq(target.view_as(pred)).sum().item()\n",
        "    processed += len(data)\n",
        "\n",
        "    pbar.set_description(desc= f'Loss={loss.item()} Batch_id={batch_idx} Accuracy={100*correct/processed:0.2f}')\n",
        "    train_acc_batch.append(100*correct/processed)\n",
        "\n",
        "def test(model, device, test_loader, print_misclassified):\n",
        "    model.eval()\n",
        "    test_loss = 0\n",
        "    correct = 0\n",
        "    misclassified_batchNorm = []\n",
        "    print_misclassified = print_misclassified\n",
        "    \n",
        "    with torch.no_grad():\n",
        "        for data, target in test_loader:\n",
        "            data, target = data.to(device), target.to(device)\n",
        "            output = model(data, type_of_norm)\n",
        "            #test_loss += F.nll_loss(output, target, reduction='sum').item()  # sum up batch loss\n",
        "            target=target.float().unsqueeze(dim=1)\n",
        "            test_loss += mse(output, target).item()  # sum up batch loss\n",
        "            pred = output.argmax(dim=1, keepdim=True)  # get the index of the max log-probability\n",
        "            correct += pred.eq(target.view_as(pred)).sum().item()\n",
        "\n",
        "            # Identify misclassified images\n",
        "            incorrect = pred.ne(target.view_as(pred))\n",
        "            misclassified_batchNorm.extend(data[incorrect])\n",
        "\n",
        "    test_loss /= len(test_loader.dataset)\n",
        "    test_losses_batch.append(test_loss)\n",
        "\n",
        "    print('\\nTest set: Average loss: {:.4f}, Accuracy: {}/{} ({:.2f}%)\\n'.format(\n",
        "        test_loss, correct, len(test_loader.dataset),\n",
        "        100. * correct / len(test_loader.dataset)))\n",
        "    \n",
        "    test_acc_batch.append(100. * correct / len(test_loader.dataset))\n",
        "\n",
        "    counter = 1\n",
        "    if print_misclassified:\n",
        "      #fig, axs = plt.subplots(2,5, figsize=(10, 5))\n",
        "\n",
        "      import matplotlib.pyplot as plt\n",
        "\n",
        "      # Determine the number of rows and columns for the subplots\n",
        "      rows = 2\n",
        "      cols = 5\n",
        "\n",
        "      # Use plt.subplots to create the subplots\n",
        "      fig, axs = plt.subplots(rows, cols, figsize=(10, 5))\n",
        "      axs = axs.ravel()\n",
        "\n",
        "      # Plot the misclassified images in the subplots\n",
        "      for i, image in enumerate(misclassified_batchNorm[:10]):\n",
        "          axs[i].imshow(image.squeeze().cpu().numpy(), cmap='gray_r')\n",
        "          axs[i].set_title(f\"True label: {target[i].item()}\", fontweight='bold')\n",
        "\n",
        "      # Remove unused subplots\n",
        "      for i in range(10, rows * cols):\n",
        "          fig.delaxes(axs[i])\n",
        "      \n",
        "      plt.suptitle(\"Misclassified Images - BatchNorm\", fontsize=15, fontweight='bold')\n",
        "\n",
        "      # Show the plot\n",
        "      plt.show()\n",
        "\n"
      ],
      "metadata": {
        "id": "8LsSmsQzzAG1"
      },
      "execution_count": 69,
      "outputs": []
    },
    {
      "cell_type": "markdown",
      "source": [
        "# Train the model for Batch Normalization and L1 Regularization"
      ],
      "metadata": {
        "id": "qCRj-kG4mpHN"
      }
    },
    {
      "cell_type": "code",
      "source": [
        "from torch.optim.lr_scheduler import StepLR\n",
        "\n",
        "model =  mymodel.Net().to(device)\n",
        "optimizer = optim.SGD(model.parameters(), lr=0.01, momentum=0.9)\n",
        "scheduler = StepLR(optimizer, step_size=4, gamma=0.1)\n",
        "\n",
        "EPOCHS = 20\n",
        "print_misclassified = False\n",
        "for epoch in range(EPOCHS):\n",
        "    print(\"EPOCH:\", epoch)\n",
        "    train(model, device, train_loader, optimizer, epoch)\n",
        "    scheduler.step()\n",
        "\n",
        "    if epoch == EPOCHS - 1:\n",
        "      print_misclassified = True\n",
        "\n",
        "    test(model, device, test_loader, print_misclassified)"
      ],
      "metadata": {
        "colab": {
          "base_uri": "https://localhost:8080/",
          "height": 1000
        },
        "id": "YnILUo7Bmxad",
        "outputId": "2dd24e11-b9ed-4c58-f238-1063bbb26872"
      },
      "execution_count": 72,
      "outputs": [
        {
          "output_type": "stream",
          "name": "stdout",
          "text": [
            "EPOCH: 0\n"
          ]
        },
        {
          "output_type": "stream",
          "name": "stderr",
          "text": [
            "Loss=52.59210968017578 Batch_id=468 Accuracy=9.98: 100%|██████████| 469/469 [00:31<00:00, 14.89it/s]\n"
          ]
        },
        {
          "output_type": "stream",
          "name": "stdout",
          "text": [
            "\n",
            "Test set: Average loss: 0.4255, Accuracy: 980/10000 (9.80%)\n",
            "\n",
            "EPOCH: 1\n"
          ]
        },
        {
          "output_type": "stream",
          "name": "stderr",
          "text": [
            "Loss=48.448341369628906 Batch_id=468 Accuracy=9.97: 100%|██████████| 469/469 [00:31<00:00, 14.84it/s]\n"
          ]
        },
        {
          "output_type": "stream",
          "name": "stdout",
          "text": [
            "\n",
            "Test set: Average loss: 0.4269, Accuracy: 980/10000 (9.80%)\n",
            "\n",
            "EPOCH: 2\n"
          ]
        },
        {
          "output_type": "stream",
          "name": "stderr",
          "text": [
            "Loss=54.1327018737793 Batch_id=468 Accuracy=10.10: 100%|██████████| 469/469 [00:31<00:00, 14.76it/s]\n"
          ]
        },
        {
          "output_type": "stream",
          "name": "stdout",
          "text": [
            "\n",
            "Test set: Average loss: 0.4279, Accuracy: 980/10000 (9.80%)\n",
            "\n",
            "EPOCH: 3\n"
          ]
        },
        {
          "output_type": "stream",
          "name": "stderr",
          "text": [
            "Loss=49.230499267578125 Batch_id=468 Accuracy=10.03: 100%|██████████| 469/469 [00:31<00:00, 14.93it/s]\n"
          ]
        },
        {
          "output_type": "stream",
          "name": "stdout",
          "text": [
            "\n",
            "Test set: Average loss: 0.4243, Accuracy: 1135/10000 (11.35%)\n",
            "\n",
            "EPOCH: 4\n"
          ]
        },
        {
          "output_type": "stream",
          "name": "stderr",
          "text": [
            "Loss=55.647216796875 Batch_id=468 Accuracy=9.88: 100%|██████████| 469/469 [00:31<00:00, 14.95it/s]\n"
          ]
        },
        {
          "output_type": "stream",
          "name": "stdout",
          "text": [
            "\n",
            "Test set: Average loss: 0.4260, Accuracy: 980/10000 (9.80%)\n",
            "\n",
            "EPOCH: 5\n"
          ]
        },
        {
          "output_type": "stream",
          "name": "stderr",
          "text": [
            "Loss=53.24620819091797 Batch_id=468 Accuracy=9.87: 100%|██████████| 469/469 [00:32<00:00, 14.58it/s]\n"
          ]
        },
        {
          "output_type": "stream",
          "name": "stdout",
          "text": [
            "\n",
            "Test set: Average loss: 0.4254, Accuracy: 980/10000 (9.80%)\n",
            "\n",
            "EPOCH: 6\n"
          ]
        },
        {
          "output_type": "stream",
          "name": "stderr",
          "text": [
            "Loss=57.19384765625 Batch_id=468 Accuracy=9.87: 100%|██████████| 469/469 [00:32<00:00, 14.49it/s]\n"
          ]
        },
        {
          "output_type": "stream",
          "name": "stdout",
          "text": [
            "\n",
            "Test set: Average loss: 0.4268, Accuracy: 980/10000 (9.80%)\n",
            "\n",
            "EPOCH: 7\n"
          ]
        },
        {
          "output_type": "stream",
          "name": "stderr",
          "text": [
            "Loss=55.972618103027344 Batch_id=468 Accuracy=9.87: 100%|██████████| 469/469 [00:31<00:00, 14.99it/s]\n"
          ]
        },
        {
          "output_type": "stream",
          "name": "stdout",
          "text": [
            "\n",
            "Test set: Average loss: 0.4266, Accuracy: 980/10000 (9.80%)\n",
            "\n",
            "EPOCH: 8\n"
          ]
        },
        {
          "output_type": "stream",
          "name": "stderr",
          "text": [
            "Loss=52.49515151977539 Batch_id=468 Accuracy=9.87: 100%|██████████| 469/469 [00:31<00:00, 14.94it/s]\n"
          ]
        },
        {
          "output_type": "stream",
          "name": "stdout",
          "text": [
            "\n",
            "Test set: Average loss: 0.4254, Accuracy: 980/10000 (9.80%)\n",
            "\n",
            "EPOCH: 9\n"
          ]
        },
        {
          "output_type": "stream",
          "name": "stderr",
          "text": [
            "Loss=48.769020080566406 Batch_id=468 Accuracy=9.87: 100%|██████████| 469/469 [00:31<00:00, 15.02it/s]\n"
          ]
        },
        {
          "output_type": "stream",
          "name": "stdout",
          "text": [
            "\n",
            "Test set: Average loss: 0.4243, Accuracy: 980/10000 (9.80%)\n",
            "\n",
            "EPOCH: 10\n"
          ]
        },
        {
          "output_type": "stream",
          "name": "stderr",
          "text": [
            "Loss=56.05516052246094 Batch_id=468 Accuracy=9.87: 100%|██████████| 469/469 [00:32<00:00, 14.62it/s]\n"
          ]
        },
        {
          "output_type": "stream",
          "name": "stdout",
          "text": [
            "\n",
            "Test set: Average loss: 0.4262, Accuracy: 980/10000 (9.80%)\n",
            "\n",
            "EPOCH: 11\n"
          ]
        },
        {
          "output_type": "stream",
          "name": "stderr",
          "text": [
            "Loss=49.46501922607422 Batch_id=468 Accuracy=9.87: 100%|██████████| 469/469 [00:31<00:00, 14.96it/s]\n"
          ]
        },
        {
          "output_type": "stream",
          "name": "stdout",
          "text": [
            "\n",
            "Test set: Average loss: 0.4255, Accuracy: 980/10000 (9.80%)\n",
            "\n",
            "EPOCH: 12\n"
          ]
        },
        {
          "output_type": "stream",
          "name": "stderr",
          "text": [
            "Loss=64.20742797851562 Batch_id=468 Accuracy=9.87: 100%|██████████| 469/469 [00:33<00:00, 14.01it/s]\n"
          ]
        },
        {
          "output_type": "stream",
          "name": "stdout",
          "text": [
            "\n",
            "Test set: Average loss: 0.4266, Accuracy: 980/10000 (9.80%)\n",
            "\n",
            "EPOCH: 13\n"
          ]
        },
        {
          "output_type": "stream",
          "name": "stderr",
          "text": [
            "Loss=55.5506706237793 Batch_id=468 Accuracy=9.87: 100%|██████████| 469/469 [00:31<00:00, 14.86it/s]\n"
          ]
        },
        {
          "output_type": "stream",
          "name": "stdout",
          "text": [
            "\n",
            "Test set: Average loss: 0.4252, Accuracy: 980/10000 (9.80%)\n",
            "\n",
            "EPOCH: 14\n"
          ]
        },
        {
          "output_type": "stream",
          "name": "stderr",
          "text": [
            "Loss=57.089027404785156 Batch_id=468 Accuracy=9.87: 100%|██████████| 469/469 [00:31<00:00, 14.75it/s]\n"
          ]
        },
        {
          "output_type": "stream",
          "name": "stdout",
          "text": [
            "\n",
            "Test set: Average loss: 0.4256, Accuracy: 980/10000 (9.80%)\n",
            "\n",
            "EPOCH: 15\n"
          ]
        },
        {
          "output_type": "stream",
          "name": "stderr",
          "text": [
            "Loss=59.67701721191406 Batch_id=468 Accuracy=9.87: 100%|██████████| 469/469 [00:32<00:00, 14.49it/s]\n"
          ]
        },
        {
          "output_type": "stream",
          "name": "stdout",
          "text": [
            "\n",
            "Test set: Average loss: 0.4252, Accuracy: 980/10000 (9.80%)\n",
            "\n",
            "EPOCH: 16\n"
          ]
        },
        {
          "output_type": "stream",
          "name": "stderr",
          "text": [
            "Loss=52.54081344604492 Batch_id=468 Accuracy=9.87: 100%|██████████| 469/469 [00:32<00:00, 14.55it/s]\n"
          ]
        },
        {
          "output_type": "stream",
          "name": "stdout",
          "text": [
            "\n",
            "Test set: Average loss: 0.4243, Accuracy: 980/10000 (9.80%)\n",
            "\n",
            "EPOCH: 17\n"
          ]
        },
        {
          "output_type": "stream",
          "name": "stderr",
          "text": [
            "Loss=50.91938781738281 Batch_id=468 Accuracy=9.87: 100%|██████████| 469/469 [00:31<00:00, 14.73it/s]\n"
          ]
        },
        {
          "output_type": "stream",
          "name": "stdout",
          "text": [
            "\n",
            "Test set: Average loss: 0.4262, Accuracy: 980/10000 (9.80%)\n",
            "\n",
            "EPOCH: 18\n"
          ]
        },
        {
          "output_type": "stream",
          "name": "stderr",
          "text": [
            "Loss=56.14275360107422 Batch_id=468 Accuracy=9.87: 100%|██████████| 469/469 [00:33<00:00, 13.86it/s]\n"
          ]
        },
        {
          "output_type": "stream",
          "name": "stdout",
          "text": [
            "\n",
            "Test set: Average loss: 0.4253, Accuracy: 980/10000 (9.80%)\n",
            "\n",
            "EPOCH: 19\n"
          ]
        },
        {
          "output_type": "stream",
          "name": "stderr",
          "text": [
            "Loss=60.43550109863281 Batch_id=468 Accuracy=9.87: 100%|██████████| 469/469 [00:31<00:00, 14.81it/s]\n"
          ]
        },
        {
          "output_type": "stream",
          "name": "stdout",
          "text": [
            "\n",
            "Test set: Average loss: 0.4250, Accuracy: 980/10000 (9.80%)\n",
            "\n"
          ]
        },
        {
          "output_type": "display_data",
          "data": {
            "text/plain": [
              "<Figure size 720x360 with 10 Axes>"
            ],
            "image/png": "[encoded data removed]"
          },
          "metadata": {
            "needs_background": "light"
          }
        }
      ]
    },
    {
      "cell_type": "markdown",
      "source": [
        "# Plot graphs"
      ],
      "metadata": {
        "id": "KurYMT8kPJd-"
      }
    },
    {
      "cell_type": "code",
      "source": [
        "fig, axs = plt.subplots(2,1,figsize=(15,10))\n",
        "axs[0].set_xlim([0, 10000])\n",
        "axs[1].set_xlim([0, 10000])\n",
        "\n",
        "axs[0].plot(train_losses_group, color='red', label='groupNorm-trainLoss')\n",
        "axs[0].plot(train_losses_layer, color='blue', label='layerNorm-trainLoss')\n",
        "axs[0].plot(train_losses_batch, color='green', label='batchNorm-trainLoss')\n",
        "\n",
        "axs[0].plot(test_losses_group, color='orange', label='groupNorm-testLoss')\n",
        "axs[0].plot(test_losses_layer, color='purple', label='layerNorm-testLoss')\n",
        "axs[0].plot(test_losses_batch, color='brown', label='batchNorm-testLoss')\n",
        "axs[0].set_title(\"Test/Validation Loss\")\n",
        "axs[0].legend()\n",
        "\n",
        "axs[1].plot(train_acc_group[100:], color='red', label='groupNorm-trainAccuracy')\n",
        "axs[1].plot(train_acc_layer[100:], color='blue', label='layerNorm-trainAccuracy')\n",
        "axs[1].plot(train_acc_batch[100:], color='green', label='batchNorm-trainAccuracy')\n",
        "\n",
        "axs[1].plot(test_acc_group, color='orange', label='groupNorm-testAccuracy')\n",
        "axs[1].plot(test_acc_layer, color='purple', label='layerNorm-testAccuracy')\n",
        "axs[1].plot(test_acc_batch, color='brown', label='batchNorm-testAccuracy')\n",
        "axs[1].set_title(\"Test/Validation Accuracy\")\n",
        "axs[1].legend()\n"
      ],
      "metadata": {
        "id": "cLD-oAe9PIqF",
        "colab": {
          "base_uri": "https://localhost:8080/",
          "height": 624
        },
        "outputId": "2b16f53d-a75a-4692-9cb5-6d97d87777d3"
      },
      "execution_count": 74,
      "outputs": [
        {
          "output_type": "execute_result",
          "data": {
            "text/plain": [
              "<matplotlib.legend.Legend at 0x7f5e9c667670>"
            ]
          },
          "metadata": {},
          "execution_count": 74
        },
        {
          "output_type": "display_data",
          "data": {
            "text/plain": [
              "<Figure size 1080x720 with 2 Axes>"
            ],
            "image/png": "[encoded data removed]"
          },
          "metadata": {
            "needs_background": "light"
          }
        }
      ]
    }
  ],
  "metadata": {
    "accelerator": "GPU",
    "colab": {
      "provenance": [],
      "include_colab_link": true
    },
    "gpuClass": "standard",
    "kernelspec": {
      "display_name": "Python 3",
      "name": "python3"
    },
    "widgets": {
      "application/vnd.jupyter.widget-state+json": {
        "41c53dd0d37e4c4bbf8d95c9f2b950ac": {
          "model_module": "@jupyter-widgets/controls",
          "model_name": "HBoxModel",
          "model_module_version": "1.5.0",
          "state": {
            "_dom_classes": [],
            "_model_module": "@jupyter-widgets/controls",
            "_model_module_version": "1.5.0",
            "_model_name": "HBoxModel",
            "_view_count": null,
            "_view_module": "@jupyter-widgets/controls",
            "_view_module_version": "1.5.0",
            "_view_name": "HBoxView",
            "box_style": "",
            "children": [
              "IPY_MODEL_a236c87a0b6d4eb681a19b14762d2750",
              "IPY_MODEL_59963a6767a048ecb04a0ea8ee8c38b0",
              "IPY_MODEL_5615c7fab5b24ca4a9042aeab2332fb1"
            ],
            "layout": "IPY_MODEL_54b577003c414bd6bfca7b096eb40637"
          }
        },
        "a236c87a0b6d4eb681a19b14762d2750": {
          "model_module": "@jupyter-widgets/controls",
          "model_name": "HTMLModel",
          "model_module_version": "1.5.0",
          "state": {
            "_dom_classes": [],
            "_model_module": "@jupyter-widgets/controls",
            "_model_module_version": "1.5.0",
            "_model_name": "HTMLModel",
            "_view_count": null,
            "_view_module": "@jupyter-widgets/controls",
            "_view_module_version": "1.5.0",
            "_view_name": "HTMLView",
            "description": "",
            "description_tooltip": null,
            "layout": "IPY_MODEL_a115f6b64f7747918051625af2a53fd7",
            "placeholder": "​",
            "style": "IPY_MODEL_7e898b7d5227409699fca2e5490b0017",
            "value": "100%"
          }
        },
        "59963a6767a048ecb04a0ea8ee8c38b0": {
          "model_module": "@jupyter-widgets/controls",
          "model_name": "FloatProgressModel",
          "model_module_version": "1.5.0",
          "state": {
            "_dom_classes": [],
            "_model_module": "@jupyter-widgets/controls",
            "_model_module_version": "1.5.0",
            "_model_name": "FloatProgressModel",
            "_view_count": null,
            "_view_module": "@jupyter-widgets/controls",
            "_view_module_version": "1.5.0",
            "_view_name": "ProgressView",
            "bar_style": "success",
            "description": "",
            "description_tooltip": null,
            "layout": "IPY_MODEL_37abb8fd2a4545f0bec50dee172dfd72",
            "max": 9912422,
            "min": 0,
            "orientation": "horizontal",
            "style": "IPY_MODEL_6c0599f23e9a43bb81c88adcb5854f06",
            "value": 9912422
          }
        },
        "5615c7fab5b24ca4a9042aeab2332fb1": {
          "model_module": "@jupyter-widgets/controls",
          "model_name": "HTMLModel",
          "model_module_version": "1.5.0",
          "state": {
            "_dom_classes": [],
            "_model_module": "@jupyter-widgets/controls",
            "_model_module_version": "1.5.0",
            "_model_name": "HTMLModel",
            "_view_count": null,
            "_view_module": "@jupyter-widgets/controls",
            "_view_module_version": "1.5.0",
            "_view_name": "HTMLView",
            "description": "",
            "description_tooltip": null,
            "layout": "IPY_MODEL_c2ebe0de9f4b4962859f95d097266ef6",
            "placeholder": "​",
            "style": "IPY_MODEL_955b4caadc9a49d3b73fe17849cca7a4",
            "value": " 9912422/9912422 [00:00&lt;00:00, 125177145.57it/s]"
          }
        },
        "54b577003c414bd6bfca7b096eb40637": {
          "model_module": "@jupyter-widgets/base",
          "model_name": "LayoutModel",
          "model_module_version": "1.2.0",
          "state": {
            "_model_module": "@jupyter-widgets/base",
            "_model_module_version": "1.2.0",
            "_model_name": "LayoutModel",
            "_view_count": null,
            "_view_module": "@jupyter-widgets/base",
            "_view_module_version": "1.2.0",
            "_view_name": "LayoutView",
            "align_content": null,
            "align_items": null,
            "align_self": null,
            "border": null,
            "bottom": null,
            "display": null,
            "flex": null,
            "flex_flow": null,
            "grid_area": null,
            "grid_auto_columns": null,
            "grid_auto_flow": null,
            "grid_auto_rows": null,
            "grid_column": null,
            "grid_gap": null,
            "grid_row": null,
            "grid_template_areas": null,
            "grid_template_columns": null,
            "grid_template_rows": null,
            "height": null,
            "justify_content": null,
            "justify_items": null,
            "left": null,
            "margin": null,
            "max_height": null,
            "max_width": null,
            "min_height": null,
            "min_width": null,
            "object_fit": null,
            "object_position": null,
            "order": null,
            "overflow": null,
            "overflow_x": null,
            "overflow_y": null,
            "padding": null,
            "right": null,
            "top": null,
            "visibility": null,
            "width": null
          }
        },
        "a115f6b64f7747918051625af2a53fd7": {
          "model_module": "@jupyter-widgets/base",
          "model_name": "LayoutModel",
          "model_module_version": "1.2.0",
          "state": {
            "_model_module": "@jupyter-widgets/base",
            "_model_module_version": "1.2.0",
            "_model_name": "LayoutModel",
            "_view_count": null,
            "_view_module": "@jupyter-widgets/base",
            "_view_module_version": "1.2.0",
            "_view_name": "LayoutView",
            "align_content": null,
            "align_items": null,
            "align_self": null,
            "border": null,
            "bottom": null,
            "display": null,
            "flex": null,
            "flex_flow": null,
            "grid_area": null,
            "grid_auto_columns": null,
            "grid_auto_flow": null,
            "grid_auto_rows": null,
            "grid_column": null,
            "grid_gap": null,
            "grid_row": null,
            "grid_template_areas": null,
            "grid_template_columns": null,
            "grid_template_rows": null,
            "height": null,
            "justify_content": null,
            "justify_items": null,
            "left": null,
            "margin": null,
            "max_height": null,
            "max_width": null,
            "min_height": null,
            "min_width": null,
            "object_fit": null,
            "object_position": null,
            "order": null,
            "overflow": null,
            "overflow_x": null,
            "overflow_y": null,
            "padding": null,
            "right": null,
            "top": null,
            "visibility": null,
            "width": null
          }
        },
        "7e898b7d5227409699fca2e5490b0017": {
          "model_module": "@jupyter-widgets/controls",
          "model_name": "DescriptionStyleModel",
          "model_module_version": "1.5.0",
          "state": {
            "_model_module": "@jupyter-widgets/controls",
            "_model_module_version": "1.5.0",
            "_model_name": "DescriptionStyleModel",
            "_view_count": null,
            "_view_module": "@jupyter-widgets/base",
            "_view_module_version": "1.2.0",
            "_view_name": "StyleView",
            "description_width": ""
          }
        },
        "37abb8fd2a4545f0bec50dee172dfd72": {
          "model_module": "@jupyter-widgets/base",
          "model_name": "LayoutModel",
          "model_module_version": "1.2.0",
          "state": {
            "_model_module": "@jupyter-widgets/base",
            "_model_module_version": "1.2.0",
            "_model_name": "LayoutModel",
            "_view_count": null,
            "_view_module": "@jupyter-widgets/base",
            "_view_module_version": "1.2.0",
            "_view_name": "LayoutView",
            "align_content": null,
            "align_items": null,
            "align_self": null,
            "border": null,
            "bottom": null,
            "display": null,
            "flex": null,
            "flex_flow": null,
            "grid_area": null,
            "grid_auto_columns": null,
            "grid_auto_flow": null,
            "grid_auto_rows": null,
            "grid_column": null,
            "grid_gap": null,
            "grid_row": null,
            "grid_template_areas": null,
            "grid_template_columns": null,
            "grid_template_rows": null,
            "height": null,
            "justify_content": null,
            "justify_items": null,
            "left": null,
            "margin": null,
            "max_height": null,
            "max_width": null,
            "min_height": null,
            "min_width": null,
            "object_fit": null,
            "object_position": null,
            "order": null,
            "overflow": null,
            "overflow_x": null,
            "overflow_y": null,
            "padding": null,
            "right": null,
            "top": null,
            "visibility": null,
            "width": null
          }
        },
        "6c0599f23e9a43bb81c88adcb5854f06": {
          "model_module": "@jupyter-widgets/controls",
          "model_name": "ProgressStyleModel",
          "model_module_version": "1.5.0",
          "state": {
            "_model_module": "@jupyter-widgets/controls",
            "_model_module_version": "1.5.0",
            "_model_name": "ProgressStyleModel",
            "_view_count": null,
            "_view_module": "@jupyter-widgets/base",
            "_view_module_version": "1.2.0",
            "_view_name": "StyleView",
            "bar_color": null,
            "description_width": ""
          }
        },
        "c2ebe0de9f4b4962859f95d097266ef6": {
          "model_module": "@jupyter-widgets/base",
          "model_name": "LayoutModel",
          "model_module_version": "1.2.0",
          "state": {
            "_model_module": "@jupyter-widgets/base",
            "_model_module_version": "1.2.0",
            "_model_name": "LayoutModel",
            "_view_count": null,
            "_view_module": "@jupyter-widgets/base",
            "_view_module_version": "1.2.0",
            "_view_name": "LayoutView",
            "align_content": null,
            "align_items": null,
            "align_self": null,
            "border": null,
            "bottom": null,
            "display": null,
            "flex": null,
            "flex_flow": null,
            "grid_area": null,
            "grid_auto_columns": null,
            "grid_auto_flow": null,
            "grid_auto_rows": null,
            "grid_column": null,
            "grid_gap": null,
            "grid_row": null,
            "grid_template_areas": null,
            "grid_template_columns": null,
            "grid_template_rows": null,
            "height": null,
            "justify_content": null,
            "justify_items": null,
            "left": null,
            "margin": null,
            "max_height": null,
            "max_width": null,
            "min_height": null,
            "min_width": null,
            "object_fit": null,
            "object_position": null,
            "order": null,
            "overflow": null,
            "overflow_x": null,
            "overflow_y": null,
            "padding": null,
            "right": null,
            "top": null,
            "visibility": null,
            "width": null
          }
        },
        "955b4caadc9a49d3b73fe17849cca7a4": {
          "model_module": "@jupyter-widgets/controls",
          "model_name": "DescriptionStyleModel",
          "model_module_version": "1.5.0",
          "state": {
            "_model_module": "@jupyter-widgets/controls",
            "_model_module_version": "1.5.0",
            "_model_name": "DescriptionStyleModel",
            "_view_count": null,
            "_view_module": "@jupyter-widgets/base",
            "_view_module_version": "1.2.0",
            "_view_name": "StyleView",
            "description_width": ""
          }
        },
        "df334e195e1e4cd2910805646bf9f9ed": {
          "model_module": "@jupyter-widgets/controls",
          "model_name": "HBoxModel",
          "model_module_version": "1.5.0",
          "state": {
            "_dom_classes": [],
            "_model_module": "@jupyter-widgets/controls",
            "_model_module_version": "1.5.0",
            "_model_name": "HBoxModel",
            "_view_count": null,
            "_view_module": "@jupyter-widgets/controls",
            "_view_module_version": "1.5.0",
            "_view_name": "HBoxView",
            "box_style": "",
            "children": [
              "IPY_MODEL_7a2571a6917b4956bcd3336caf914827",
              "IPY_MODEL_aa785545829c40b28161b3f33e9743e4",
              "IPY_MODEL_93595db6035b488ca7d2591b38cd50c7"
            ],
            "layout": "IPY_MODEL_a6fd25a2ff3e4c4b9645c48694e57337"
          }
        },
        "7a2571a6917b4956bcd3336caf914827": {
          "model_module": "@jupyter-widgets/controls",
          "model_name": "HTMLModel",
          "model_module_version": "1.5.0",
          "state": {
            "_dom_classes": [],
            "_model_module": "@jupyter-widgets/controls",
            "_model_module_version": "1.5.0",
            "_model_name": "HTMLModel",
            "_view_count": null,
            "_view_module": "@jupyter-widgets/controls",
            "_view_module_version": "1.5.0",
            "_view_name": "HTMLView",
            "description": "",
            "description_tooltip": null,
            "layout": "IPY_MODEL_68fad5f876de4dfeb79cf9fc9e9f45e5",
            "placeholder": "​",
            "style": "IPY_MODEL_21fc008c982646d39465d3ee91b84e2f",
            "value": "100%"
          }
        },
        "aa785545829c40b28161b3f33e9743e4": {
          "model_module": "@jupyter-widgets/controls",
          "model_name": "FloatProgressModel",
          "model_module_version": "1.5.0",
          "state": {
            "_dom_classes": [],
            "_model_module": "@jupyter-widgets/controls",
            "_model_module_version": "1.5.0",
            "_model_name": "FloatProgressModel",
            "_view_count": null,
            "_view_module": "@jupyter-widgets/controls",
            "_view_module_version": "1.5.0",
            "_view_name": "ProgressView",
            "bar_style": "success",
            "description": "",
            "description_tooltip": null,
            "layout": "IPY_MODEL_6f31f0b0e93549e2b54d0588bfdee1ef",
            "max": 28881,
            "min": 0,
            "orientation": "horizontal",
            "style": "IPY_MODEL_6a39dd66a23442cb9412a6734cbbf77e",
            "value": 28881
          }
        },
        "93595db6035b488ca7d2591b38cd50c7": {
          "model_module": "@jupyter-widgets/controls",
          "model_name": "HTMLModel",
          "model_module_version": "1.5.0",
          "state": {
            "_dom_classes": [],
            "_model_module": "@jupyter-widgets/controls",
            "_model_module_version": "1.5.0",
            "_model_name": "HTMLModel",
            "_view_count": null,
            "_view_module": "@jupyter-widgets/controls",
            "_view_module_version": "1.5.0",
            "_view_name": "HTMLView",
            "description": "",
            "description_tooltip": null,
            "layout": "IPY_MODEL_e737629748e047618d96f9a2f40257e3",
            "placeholder": "​",
            "style": "IPY_MODEL_51cead7a8c6c4ed0bdf549c20cc185aa",
            "value": " 28881/28881 [00:00&lt;00:00, 1645843.04it/s]"
          }
        },
        "a6fd25a2ff3e4c4b9645c48694e57337": {
          "model_module": "@jupyter-widgets/base",
          "model_name": "LayoutModel",
          "model_module_version": "1.2.0",
          "state": {
            "_model_module": "@jupyter-widgets/base",
            "_model_module_version": "1.2.0",
            "_model_name": "LayoutModel",
            "_view_count": null,
            "_view_module": "@jupyter-widgets/base",
            "_view_module_version": "1.2.0",
            "_view_name": "LayoutView",
            "align_content": null,
            "align_items": null,
            "align_self": null,
            "border": null,
            "bottom": null,
            "display": null,
            "flex": null,
            "flex_flow": null,
            "grid_area": null,
            "grid_auto_columns": null,
            "grid_auto_flow": null,
            "grid_auto_rows": null,
            "grid_column": null,
            "grid_gap": null,
            "grid_row": null,
            "grid_template_areas": null,
            "grid_template_columns": null,
            "grid_template_rows": null,
            "height": null,
            "justify_content": null,
            "justify_items": null,
            "left": null,
            "margin": null,
            "max_height": null,
            "max_width": null,
            "min_height": null,
            "min_width": null,
            "object_fit": null,
            "object_position": null,
            "order": null,
            "overflow": null,
            "overflow_x": null,
            "overflow_y": null,
            "padding": null,
            "right": null,
            "top": null,
            "visibility": null,
            "width": null
          }
        },
        "68fad5f876de4dfeb79cf9fc9e9f45e5": {
          "model_module": "@jupyter-widgets/base",
          "model_name": "LayoutModel",
          "model_module_version": "1.2.0",
          "state": {
            "_model_module": "@jupyter-widgets/base",
            "_model_module_version": "1.2.0",
            "_model_name": "LayoutModel",
            "_view_count": null,
            "_view_module": "@jupyter-widgets/base",
            "_view_module_version": "1.2.0",
            "_view_name": "LayoutView",
            "align_content": null,
            "align_items": null,
            "align_self": null,
            "border": null,
            "bottom": null,
            "display": null,
            "flex": null,
            "flex_flow": null,
            "grid_area": null,
            "grid_auto_columns": null,
            "grid_auto_flow": null,
            "grid_auto_rows": null,
            "grid_column": null,
            "grid_gap": null,
            "grid_row": null,
            "grid_template_areas": null,
            "grid_template_columns": null,
            "grid_template_rows": null,
            "height": null,
            "justify_content": null,
            "justify_items": null,
            "left": null,
            "margin": null,
            "max_height": null,
            "max_width": null,
            "min_height": null,
            "min_width": null,
            "object_fit": null,
            "object_position": null,
            "order": null,
            "overflow": null,
            "overflow_x": null,
            "overflow_y": null,
            "padding": null,
            "right": null,
            "top": null,
            "visibility": null,
            "width": null
          }
        },
        "21fc008c982646d39465d3ee91b84e2f": {
          "model_module": "@jupyter-widgets/controls",
          "model_name": "DescriptionStyleModel",
          "model_module_version": "1.5.0",
          "state": {
            "_model_module": "@jupyter-widgets/controls",
            "_model_module_version": "1.5.0",
            "_model_name": "DescriptionStyleModel",
            "_view_count": null,
            "_view_module": "@jupyter-widgets/base",
            "_view_module_version": "1.2.0",
            "_view_name": "StyleView",
            "description_width": ""
          }
        },
        "6f31f0b0e93549e2b54d0588bfdee1ef": {
          "model_module": "@jupyter-widgets/base",
          "model_name": "LayoutModel",
          "model_module_version": "1.2.0",
          "state": {
            "_model_module": "@jupyter-widgets/base",
            "_model_module_version": "1.2.0",
            "_model_name": "LayoutModel",
            "_view_count": null,
            "_view_module": "@jupyter-widgets/base",
            "_view_module_version": "1.2.0",
            "_view_name": "LayoutView",
            "align_content": null,
            "align_items": null,
            "align_self": null,
            "border": null,
            "bottom": null,
            "display": null,
            "flex": null,
            "flex_flow": null,
            "grid_area": null,
            "grid_auto_columns": null,
            "grid_auto_flow": null,
            "grid_auto_rows": null,
            "grid_column": null,
            "grid_gap": null,
            "grid_row": null,
            "grid_template_areas": null,
            "grid_template_columns": null,
            "grid_template_rows": null,
            "height": null,
            "justify_content": null,
            "justify_items": null,
            "left": null,
            "margin": null,
            "max_height": null,
            "max_width": null,
            "min_height": null,
            "min_width": null,
            "object_fit": null,
            "object_position": null,
            "order": null,
            "overflow": null,
            "overflow_x": null,
            "overflow_y": null,
            "padding": null,
            "right": null,
            "top": null,
            "visibility": null,
            "width": null
          }
        },
        "6a39dd66a23442cb9412a6734cbbf77e": {
          "model_module": "@jupyter-widgets/controls",
          "model_name": "ProgressStyleModel",
          "model_module_version": "1.5.0",
          "state": {
            "_model_module": "@jupyter-widgets/controls",
            "_model_module_version": "1.5.0",
            "_model_name": "ProgressStyleModel",
            "_view_count": null,
            "_view_module": "@jupyter-widgets/base",
            "_view_module_version": "1.2.0",
            "_view_name": "StyleView",
            "bar_color": null,
            "description_width": ""
          }
        },
        "e737629748e047618d96f9a2f40257e3": {
          "model_module": "@jupyter-widgets/base",
          "model_name": "LayoutModel",
          "model_module_version": "1.2.0",
          "state": {
            "_model_module": "@jupyter-widgets/base",
            "_model_module_version": "1.2.0",
            "_model_name": "LayoutModel",
            "_view_count": null,
            "_view_module": "@jupyter-widgets/base",
            "_view_module_version": "1.2.0",
            "_view_name": "LayoutView",
            "align_content": null,
            "align_items": null,
            "align_self": null,
            "border": null,
            "bottom": null,
            "display": null,
            "flex": null,
            "flex_flow": null,
            "grid_area": null,
            "grid_auto_columns": null,
            "grid_auto_flow": null,
            "grid_auto_rows": null,
            "grid_column": null,
            "grid_gap": null,
            "grid_row": null,
            "grid_template_areas": null,
            "grid_template_columns": null,
            "grid_template_rows": null,
            "height": null,
            "justify_content": null,
            "justify_items": null,
            "left": null,
            "margin": null,
            "max_height": null,
            "max_width": null,
            "min_height": null,
            "min_width": null,
            "object_fit": null,
            "object_position": null,
            "order": null,
            "overflow": null,
            "overflow_x": null,
            "overflow_y": null,
            "padding": null,
            "right": null,
            "top": null,
            "visibility": null,
            "width": null
          }
        },
        "51cead7a8c6c4ed0bdf549c20cc185aa": {
          "model_module": "@jupyter-widgets/controls",
          "model_name": "DescriptionStyleModel",
          "model_module_version": "1.5.0",
          "state": {
            "_model_module": "@jupyter-widgets/controls",
            "_model_module_version": "1.5.0",
            "_model_name": "DescriptionStyleModel",
            "_view_count": null,
            "_view_module": "@jupyter-widgets/base",
            "_view_module_version": "1.2.0",
            "_view_name": "StyleView",
            "description_width": ""
          }
        },
        "38bc496a0ac74b0b88e013785217111f": {
          "model_module": "@jupyter-widgets/controls",
          "model_name": "HBoxModel",
          "model_module_version": "1.5.0",
          "state": {
            "_dom_classes": [],
            "_model_module": "@jupyter-widgets/controls",
            "_model_module_version": "1.5.0",
            "_model_name": "HBoxModel",
            "_view_count": null,
            "_view_module": "@jupyter-widgets/controls",
            "_view_module_version": "1.5.0",
            "_view_name": "HBoxView",
            "box_style": "",
            "children": [
              "IPY_MODEL_cef453af07994fe99aca69816ce5a2a9",
              "IPY_MODEL_8b46f3e44b54445d816a180d37dace37",
              "IPY_MODEL_de6e6e050c794ebcab279d281dc8746b"
            ],
            "layout": "IPY_MODEL_aad4de8385fc45dd95828610dbc7ecf9"
          }
        },
        "cef453af07994fe99aca69816ce5a2a9": {
          "model_module": "@jupyter-widgets/controls",
          "model_name": "HTMLModel",
          "model_module_version": "1.5.0",
          "state": {
            "_dom_classes": [],
            "_model_module": "@jupyter-widgets/controls",
            "_model_module_version": "1.5.0",
            "_model_name": "HTMLModel",
            "_view_count": null,
            "_view_module": "@jupyter-widgets/controls",
            "_view_module_version": "1.5.0",
            "_view_name": "HTMLView",
            "description": "",
            "description_tooltip": null,
            "layout": "IPY_MODEL_21a5849bbc3d4a1093792bbaa3b0e9c8",
            "placeholder": "​",
            "style": "IPY_MODEL_5d6ce81c06fa4a18ad31d80858e61cfd",
            "value": "100%"
          }
        },
        "8b46f3e44b54445d816a180d37dace37": {
          "model_module": "@jupyter-widgets/controls",
          "model_name": "FloatProgressModel",
          "model_module_version": "1.5.0",
          "state": {
            "_dom_classes": [],
            "_model_module": "@jupyter-widgets/controls",
            "_model_module_version": "1.5.0",
            "_model_name": "FloatProgressModel",
            "_view_count": null,
            "_view_module": "@jupyter-widgets/controls",
            "_view_module_version": "1.5.0",
            "_view_name": "ProgressView",
            "bar_style": "success",
            "description": "",
            "description_tooltip": null,
            "layout": "IPY_MODEL_6fbd8c2fdf134f5c83c5d5a00ffd0061",
            "max": 1648877,
            "min": 0,
            "orientation": "horizontal",
            "style": "IPY_MODEL_5ed12bbd235d42bd9e8546454bad1945",
            "value": 1648877
          }
        },
        "de6e6e050c794ebcab279d281dc8746b": {
          "model_module": "@jupyter-widgets/controls",
          "model_name": "HTMLModel",
          "model_module_version": "1.5.0",
          "state": {
            "_dom_classes": [],
            "_model_module": "@jupyter-widgets/controls",
            "_model_module_version": "1.5.0",
            "_model_name": "HTMLModel",
            "_view_count": null,
            "_view_module": "@jupyter-widgets/controls",
            "_view_module_version": "1.5.0",
            "_view_name": "HTMLView",
            "description": "",
            "description_tooltip": null,
            "layout": "IPY_MODEL_c86f5cdc4abb4071a6ecdee64c72ea38",
            "placeholder": "​",
            "style": "IPY_MODEL_1559d0ba92ac4b7ab379be7d57afeade",
            "value": " 1648877/1648877 [00:00&lt;00:00, 62628059.88it/s]"
          }
        },
        "aad4de8385fc45dd95828610dbc7ecf9": {
          "model_module": "@jupyter-widgets/base",
          "model_name": "LayoutModel",
          "model_module_version": "1.2.0",
          "state": {
            "_model_module": "@jupyter-widgets/base",
            "_model_module_version": "1.2.0",
            "_model_name": "LayoutModel",
            "_view_count": null,
            "_view_module": "@jupyter-widgets/base",
            "_view_module_version": "1.2.0",
            "_view_name": "LayoutView",
            "align_content": null,
            "align_items": null,
            "align_self": null,
            "border": null,
            "bottom": null,
            "display": null,
            "flex": null,
            "flex_flow": null,
            "grid_area": null,
            "grid_auto_columns": null,
            "grid_auto_flow": null,
            "grid_auto_rows": null,
            "grid_column": null,
            "grid_gap": null,
            "grid_row": null,
            "grid_template_areas": null,
            "grid_template_columns": null,
            "grid_template_rows": null,
            "height": null,
            "justify_content": null,
            "justify_items": null,
            "left": null,
            "margin": null,
            "max_height": null,
            "max_width": null,
            "min_height": null,
            "min_width": null,
            "object_fit": null,
            "object_position": null,
            "order": null,
            "overflow": null,
            "overflow_x": null,
            "overflow_y": null,
            "padding": null,
            "right": null,
            "top": null,
            "visibility": null,
            "width": null
          }
        },
        "21a5849bbc3d4a1093792bbaa3b0e9c8": {
          "model_module": "@jupyter-widgets/base",
          "model_name": "LayoutModel",
          "model_module_version": "1.2.0",
          "state": {
            "_model_module": "@jupyter-widgets/base",
            "_model_module_version": "1.2.0",
            "_model_name": "LayoutModel",
            "_view_count": null,
            "_view_module": "@jupyter-widgets/base",
            "_view_module_version": "1.2.0",
            "_view_name": "LayoutView",
            "align_content": null,
            "align_items": null,
            "align_self": null,
            "border": null,
            "bottom": null,
            "display": null,
            "flex": null,
            "flex_flow": null,
            "grid_area": null,
            "grid_auto_columns": null,
            "grid_auto_flow": null,
            "grid_auto_rows": null,
            "grid_column": null,
            "grid_gap": null,
            "grid_row": null,
            "grid_template_areas": null,
            "grid_template_columns": null,
            "grid_template_rows": null,
            "height": null,
            "justify_content": null,
            "justify_items": null,
            "left": null,
            "margin": null,
            "max_height": null,
            "max_width": null,
            "min_height": null,
            "min_width": null,
            "object_fit": null,
            "object_position": null,
            "order": null,
            "overflow": null,
            "overflow_x": null,
            "overflow_y": null,
            "padding": null,
            "right": null,
            "top": null,
            "visibility": null,
            "width": null
          }
        },
        "5d6ce81c06fa4a18ad31d80858e61cfd": {
          "model_module": "@jupyter-widgets/controls",
          "model_name": "DescriptionStyleModel",
          "model_module_version": "1.5.0",
          "state": {
            "_model_module": "@jupyter-widgets/controls",
            "_model_module_version": "1.5.0",
            "_model_name": "DescriptionStyleModel",
            "_view_count": null,
            "_view_module": "@jupyter-widgets/base",
            "_view_module_version": "1.2.0",
            "_view_name": "StyleView",
            "description_width": ""
          }
        },
        "6fbd8c2fdf134f5c83c5d5a00ffd0061": {
          "model_module": "@jupyter-widgets/base",
          "model_name": "LayoutModel",
          "model_module_version": "1.2.0",
          "state": {
            "_model_module": "@jupyter-widgets/base",
            "_model_module_version": "1.2.0",
            "_model_name": "LayoutModel",
            "_view_count": null,
            "_view_module": "@jupyter-widgets/base",
            "_view_module_version": "1.2.0",
            "_view_name": "LayoutView",
            "align_content": null,
            "align_items": null,
            "align_self": null,
            "border": null,
            "bottom": null,
            "display": null,
            "flex": null,
            "flex_flow": null,
            "grid_area": null,
            "grid_auto_columns": null,
            "grid_auto_flow": null,
            "grid_auto_rows": null,
            "grid_column": null,
            "grid_gap": null,
            "grid_row": null,
            "grid_template_areas": null,
            "grid_template_columns": null,
            "grid_template_rows": null,
            "height": null,
            "justify_content": null,
            "justify_items": null,
            "left": null,
            "margin": null,
            "max_height": null,
            "max_width": null,
            "min_height": null,
            "min_width": null,
            "object_fit": null,
            "object_position": null,
            "order": null,
            "overflow": null,
            "overflow_x": null,
            "overflow_y": null,
            "padding": null,
            "right": null,
            "top": null,
            "visibility": null,
            "width": null
          }
        },
        "5ed12bbd235d42bd9e8546454bad1945": {
          "model_module": "@jupyter-widgets/controls",
          "model_name": "ProgressStyleModel",
          "model_module_version": "1.5.0",
          "state": {
            "_model_module": "@jupyter-widgets/controls",
            "_model_module_version": "1.5.0",
            "_model_name": "ProgressStyleModel",
            "_view_count": null,
            "_view_module": "@jupyter-widgets/base",
            "_view_module_version": "1.2.0",
            "_view_name": "StyleView",
            "bar_color": null,
            "description_width": ""
          }
        },
        "c86f5cdc4abb4071a6ecdee64c72ea38": {
          "model_module": "@jupyter-widgets/base",
          "model_name": "LayoutModel",
          "model_module_version": "1.2.0",
          "state": {
            "_model_module": "@jupyter-widgets/base",
            "_model_module_version": "1.2.0",
            "_model_name": "LayoutModel",
            "_view_count": null,
            "_view_module": "@jupyter-widgets/base",
            "_view_module_version": "1.2.0",
            "_view_name": "LayoutView",
            "align_content": null,
            "align_items": null,
            "align_self": null,
            "border": null,
            "bottom": null,
            "display": null,
            "flex": null,
            "flex_flow": null,
            "grid_area": null,
            "grid_auto_columns": null,
            "grid_auto_flow": null,
            "grid_auto_rows": null,
            "grid_column": null,
            "grid_gap": null,
            "grid_row": null,
            "grid_template_areas": null,
            "grid_template_columns": null,
            "grid_template_rows": null,
            "height": null,
            "justify_content": null,
            "justify_items": null,
            "left": null,
            "margin": null,
            "max_height": null,
            "max_width": null,
            "min_height": null,
            "min_width": null,
            "object_fit": null,
            "object_position": null,
            "order": null,
            "overflow": null,
            "overflow_x": null,
            "overflow_y": null,
            "padding": null,
            "right": null,
            "top": null,
            "visibility": null,
            "width": null
          }
        },
        "1559d0ba92ac4b7ab379be7d57afeade": {
          "model_module": "@jupyter-widgets/controls",
          "model_name": "DescriptionStyleModel",
          "model_module_version": "1.5.0",
          "state": {
            "_model_module": "@jupyter-widgets/controls",
            "_model_module_version": "1.5.0",
            "_model_name": "DescriptionStyleModel",
            "_view_count": null,
            "_view_module": "@jupyter-widgets/base",
            "_view_module_version": "1.2.0",
            "_view_name": "StyleView",
            "description_width": ""
          }
        },
        "50261a30244f49ffb7f0a3c01fd73b04": {
          "model_module": "@jupyter-widgets/controls",
          "model_name": "HBoxModel",
          "model_module_version": "1.5.0",
          "state": {
            "_dom_classes": [],
            "_model_module": "@jupyter-widgets/controls",
            "_model_module_version": "1.5.0",
            "_model_name": "HBoxModel",
            "_view_count": null,
            "_view_module": "@jupyter-widgets/controls",
            "_view_module_version": "1.5.0",
            "_view_name": "HBoxView",
            "box_style": "",
            "children": [
              "IPY_MODEL_0784530c6bd24c11ae52326f3a460764",
              "IPY_MODEL_f668f20721074970b39f883c2349a6df",
              "IPY_MODEL_8fc7ddc5195f44afa20334615781122a"
            ],
            "layout": "IPY_MODEL_765f3df786fe4a65a4e3563c204d49df"
          }
        },
        "0784530c6bd24c11ae52326f3a460764": {
          "model_module": "@jupyter-widgets/controls",
          "model_name": "HTMLModel",
          "model_module_version": "1.5.0",
          "state": {
            "_dom_classes": [],
            "_model_module": "@jupyter-widgets/controls",
            "_model_module_version": "1.5.0",
            "_model_name": "HTMLModel",
            "_view_count": null,
            "_view_module": "@jupyter-widgets/controls",
            "_view_module_version": "1.5.0",
            "_view_name": "HTMLView",
            "description": "",
            "description_tooltip": null,
            "layout": "IPY_MODEL_99d6676ff67e47aab151077d1efcbce4",
            "placeholder": "​",
            "style": "IPY_MODEL_5becb21b5eac484d9d336e104d15d810",
            "value": "100%"
          }
        },
        "f668f20721074970b39f883c2349a6df": {
          "model_module": "@jupyter-widgets/controls",
          "model_name": "FloatProgressModel",
          "model_module_version": "1.5.0",
          "state": {
            "_dom_classes": [],
            "_model_module": "@jupyter-widgets/controls",
            "_model_module_version": "1.5.0",
            "_model_name": "FloatProgressModel",
            "_view_count": null,
            "_view_module": "@jupyter-widgets/controls",
            "_view_module_version": "1.5.0",
            "_view_name": "ProgressView",
            "bar_style": "success",
            "description": "",
            "description_tooltip": null,
            "layout": "IPY_MODEL_a10f8db1e03c4295a7fb7336c38b3cfc",
            "max": 4542,
            "min": 0,
            "orientation": "horizontal",
            "style": "IPY_MODEL_eb826df7111442b2bac43ebca198bee2",
            "value": 4542
          }
        },
        "8fc7ddc5195f44afa20334615781122a": {
          "model_module": "@jupyter-widgets/controls",
          "model_name": "HTMLModel",
          "model_module_version": "1.5.0",
          "state": {
            "_dom_classes": [],
            "_model_module": "@jupyter-widgets/controls",
            "_model_module_version": "1.5.0",
            "_model_name": "HTMLModel",
            "_view_count": null,
            "_view_module": "@jupyter-widgets/controls",
            "_view_module_version": "1.5.0",
            "_view_name": "HTMLView",
            "description": "",
            "description_tooltip": null,
            "layout": "IPY_MODEL_356a6d255ee646048e5b789fd8f22bde",
            "placeholder": "​",
            "style": "IPY_MODEL_c656dd336cca4adfa835a5351bb0d39a",
            "value": " 4542/4542 [00:00&lt;00:00, 270865.73it/s]"
          }
        },
        "765f3df786fe4a65a4e3563c204d49df": {
          "model_module": "@jupyter-widgets/base",
          "model_name": "LayoutModel",
          "model_module_version": "1.2.0",
          "state": {
            "_model_module": "@jupyter-widgets/base",
            "_model_module_version": "1.2.0",
            "_model_name": "LayoutModel",
            "_view_count": null,
            "_view_module": "@jupyter-widgets/base",
            "_view_module_version": "1.2.0",
            "_view_name": "LayoutView",
            "align_content": null,
            "align_items": null,
            "align_self": null,
            "border": null,
            "bottom": null,
            "display": null,
            "flex": null,
            "flex_flow": null,
            "grid_area": null,
            "grid_auto_columns": null,
            "grid_auto_flow": null,
            "grid_auto_rows": null,
            "grid_column": null,
            "grid_gap": null,
            "grid_row": null,
            "grid_template_areas": null,
            "grid_template_columns": null,
            "grid_template_rows": null,
            "height": null,
            "justify_content": null,
            "justify_items": null,
            "left": null,
            "margin": null,
            "max_height": null,
            "max_width": null,
            "min_height": null,
            "min_width": null,
            "object_fit": null,
            "object_position": null,
            "order": null,
            "overflow": null,
            "overflow_x": null,
            "overflow_y": null,
            "padding": null,
            "right": null,
            "top": null,
            "visibility": null,
            "width": null
          }
        },
        "99d6676ff67e47aab151077d1efcbce4": {
          "model_module": "@jupyter-widgets/base",
          "model_name": "LayoutModel",
          "model_module_version": "1.2.0",
          "state": {
            "_model_module": "@jupyter-widgets/base",
            "_model_module_version": "1.2.0",
            "_model_name": "LayoutModel",
            "_view_count": null,
            "_view_module": "@jupyter-widgets/base",
            "_view_module_version": "1.2.0",
            "_view_name": "LayoutView",
            "align_content": null,
            "align_items": null,
            "align_self": null,
            "border": null,
            "bottom": null,
            "display": null,
            "flex": null,
            "flex_flow": null,
            "grid_area": null,
            "grid_auto_columns": null,
            "grid_auto_flow": null,
            "grid_auto_rows": null,
            "grid_column": null,
            "grid_gap": null,
            "grid_row": null,
            "grid_template_areas": null,
            "grid_template_columns": null,
            "grid_template_rows": null,
            "height": null,
            "justify_content": null,
            "justify_items": null,
            "left": null,
            "margin": null,
            "max_height": null,
            "max_width": null,
            "min_height": null,
            "min_width": null,
            "object_fit": null,
            "object_position": null,
            "order": null,
            "overflow": null,
            "overflow_x": null,
            "overflow_y": null,
            "padding": null,
            "right": null,
            "top": null,
            "visibility": null,
            "width": null
          }
        },
        "5becb21b5eac484d9d336e104d15d810": {
          "model_module": "@jupyter-widgets/controls",
          "model_name": "DescriptionStyleModel",
          "model_module_version": "1.5.0",
          "state": {
            "_model_module": "@jupyter-widgets/controls",
            "_model_module_version": "1.5.0",
            "_model_name": "DescriptionStyleModel",
            "_view_count": null,
            "_view_module": "@jupyter-widgets/base",
            "_view_module_version": "1.2.0",
            "_view_name": "StyleView",
            "description_width": ""
          }
        },
        "a10f8db1e03c4295a7fb7336c38b3cfc": {
          "model_module": "@jupyter-widgets/base",
          "model_name": "LayoutModel",
          "model_module_version": "1.2.0",
          "state": {
            "_model_module": "@jupyter-widgets/base",
            "_model_module_version": "1.2.0",
            "_model_name": "LayoutModel",
            "_view_count": null,
            "_view_module": "@jupyter-widgets/base",
            "_view_module_version": "1.2.0",
            "_view_name": "LayoutView",
            "align_content": null,
            "align_items": null,
            "align_self": null,
            "border": null,
            "bottom": null,
            "display": null,
            "flex": null,
            "flex_flow": null,
            "grid_area": null,
            "grid_auto_columns": null,
            "grid_auto_flow": null,
            "grid_auto_rows": null,
            "grid_column": null,
            "grid_gap": null,
            "grid_row": null,
            "grid_template_areas": null,
            "grid_template_columns": null,
            "grid_template_rows": null,
            "height": null,
            "justify_content": null,
            "justify_items": null,
            "left": null,
            "margin": null,
            "max_height": null,
            "max_width": null,
            "min_height": null,
            "min_width": null,
            "object_fit": null,
            "object_position": null,
            "order": null,
            "overflow": null,
            "overflow_x": null,
            "overflow_y": null,
            "padding": null,
            "right": null,
            "top": null,
            "visibility": null,
            "width": null
          }
        },
        "eb826df7111442b2bac43ebca198bee2": {
          "model_module": "@jupyter-widgets/controls",
          "model_name": "ProgressStyleModel",
          "model_module_version": "1.5.0",
          "state": {
            "_model_module": "@jupyter-widgets/controls",
            "_model_module_version": "1.5.0",
            "_model_name": "ProgressStyleModel",
            "_view_count": null,
            "_view_module": "@jupyter-widgets/base",
            "_view_module_version": "1.2.0",
            "_view_name": "StyleView",
            "bar_color": null,
            "description_width": ""
          }
        },
        "356a6d255ee646048e5b789fd8f22bde": {
          "model_module": "@jupyter-widgets/base",
          "model_name": "LayoutModel",
          "model_module_version": "1.2.0",
          "state": {
            "_model_module": "@jupyter-widgets/base",
            "_model_module_version": "1.2.0",
            "_model_name": "LayoutModel",
            "_view_count": null,
            "_view_module": "@jupyter-widgets/base",
            "_view_module_version": "1.2.0",
            "_view_name": "LayoutView",
            "align_content": null,
            "align_items": null,
            "align_self": null,
            "border": null,
            "bottom": null,
            "display": null,
            "flex": null,
            "flex_flow": null,
            "grid_area": null,
            "grid_auto_columns": null,
            "grid_auto_flow": null,
            "grid_auto_rows": null,
            "grid_column": null,
            "grid_gap": null,
            "grid_row": null,
            "grid_template_areas": null,
            "grid_template_columns": null,
            "grid_template_rows": null,
            "height": null,
            "justify_content": null,
            "justify_items": null,
            "left": null,
            "margin": null,
            "max_height": null,
            "max_width": null,
            "min_height": null,
            "min_width": null,
            "object_fit": null,
            "object_position": null,
            "order": null,
            "overflow": null,
            "overflow_x": null,
            "overflow_y": null,
            "padding": null,
            "right": null,
            "top": null,
            "visibility": null,
            "width": null
          }
        },
        "c656dd336cca4adfa835a5351bb0d39a": {
          "model_module": "@jupyter-widgets/controls",
          "model_name": "DescriptionStyleModel",
          "model_module_version": "1.5.0",
          "state": {
            "_model_module": "@jupyter-widgets/controls",
            "_model_module_version": "1.5.0",
            "_model_name": "DescriptionStyleModel",
            "_view_count": null,
            "_view_module": "@jupyter-widgets/base",
            "_view_module_version": "1.2.0",
            "_view_name": "StyleView",
            "description_width": ""
          }
        }
      }
    }
  },
  "nbformat": 4,
  "nbformat_minor": 0
}
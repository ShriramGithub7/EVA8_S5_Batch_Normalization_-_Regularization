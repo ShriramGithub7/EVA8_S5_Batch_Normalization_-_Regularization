{
  "cells": [
    {
      "cell_type": "markdown",
      "metadata": {
        "id": "view-in-github",
        "colab_type": "text"
      },
      "source": [
        "<a href=\"https://colab.research.google.com/github/ShriramGithub7/EVA8_S5_Batch_Normalization_-_Regularization/blob/main/EVA8_Session_5_Batch_Normalization_%26_Regularization.ipynb\" target=\"_parent\"><img src=\"https://colab.research.google.com/assets/colab-badge.svg\" alt=\"Open In Colab\"/></a>"
      ]
    },
    {
      "cell_type": "markdown",
      "source": [
        "# Mount Google Drive, load mymodel.py file and create model object"
      ],
      "metadata": {
        "id": "yqM346nXYuyc"
      }
    },
    {
      "cell_type": "code",
      "source": [
        "from google.colab import drive\n",
        "drive.mount('/content/drive', force_remount=True)"
      ],
      "metadata": {
        "colab": {
          "base_uri": "https://localhost:8080/"
        },
        "id": "mpO_yvk0Tscp",
        "outputId": "2624618c-ba34-4643-fd95-90a40382a6ec"
      },
      "execution_count": 17,
      "outputs": [
        {
          "output_type": "stream",
          "name": "stdout",
          "text": [
            "Mounted at /content/drive\n"
          ]
        }
      ]
    },
    {
      "cell_type": "markdown",
      "source": [
        "Load the model.py file"
      ],
      "metadata": {
        "id": "Y3mhjKoBj21V"
      }
    },
    {
      "cell_type": "code",
      "source": [
        "!cp /content/drive/MyDrive/mymodel.py .\n"
      ],
      "metadata": {
        "id": "mi2b8jF4hn0O"
      },
      "execution_count": 18,
      "outputs": []
    },
    {
      "cell_type": "markdown",
      "source": [
        "Create model object"
      ],
      "metadata": {
        "id": "NGbdeqCPj_31"
      }
    },
    {
      "cell_type": "code",
      "source": [
        "import mymodel\n",
        "model = mymodel.Net()"
      ],
      "metadata": {
        "id": "7RjPM47Tle0p"
      },
      "execution_count": 19,
      "outputs": []
    },
    {
      "cell_type": "markdown",
      "source": [
        "# Import libraries"
      ],
      "metadata": {
        "id": "7LdlBih6f_du"
      }
    },
    {
      "cell_type": "code",
      "source": [
        "import torch \n",
        "import torch.nn as nn\n",
        "import torch.nn.functional as F\n",
        "import torch.optim as optim\n",
        "from torchvision import datasets, transforms\n",
        "from __future__ import print_function"
      ],
      "metadata": {
        "id": "GAIsaPO5LRI4"
      },
      "execution_count": 20,
      "outputs": []
    },
    {
      "cell_type": "markdown",
      "source": [
        "# Find mean and std deviation of the data"
      ],
      "metadata": {
        "id": "QfoL3h5KbcNe"
      }
    },
    {
      "cell_type": "code",
      "source": [
        "testing_transofrms = transforms.Compose([transforms.ToTensor()])\n",
        "exp= datasets.MNIST('.data/', train=True, download=True, transform=testing_transofrms)\n",
        "exp_data = exp.train_data\n",
        "exp_data=exp.transform(exp_data.numpy())\n"
      ],
      "metadata": {
        "id": "N7mDncbabgo8"
      },
      "execution_count": 21,
      "outputs": []
    },
    {
      "cell_type": "code",
      "source": [
        "print('shape - ', exp_data.shape)\n",
        "print('size - ', exp_data.size())\n",
        "print('min - ', exp_data.min())\n",
        "print('max - ', exp_data.max())\n",
        "print('mean - ', exp_data.mean())\n",
        "print('std - ', exp_data.std())\n",
        "print('var - ', exp_data.var())"
      ],
      "metadata": {
        "colab": {
          "base_uri": "https://localhost:8080/"
        },
        "id": "7IRiQ3e4dEwb",
        "outputId": "44e47287-aebe-405c-87a8-9dd13dcef3e9"
      },
      "execution_count": 22,
      "outputs": [
        {
          "output_type": "stream",
          "name": "stdout",
          "text": [
            "shape -  torch.Size([28, 60000, 28])\n",
            "size -  torch.Size([28, 60000, 28])\n",
            "min -  tensor(0.)\n",
            "max -  tensor(1.)\n",
            "mean -  tensor(0.1307)\n",
            "std -  tensor(0.3081)\n",
            "var -  tensor(0.0949)\n"
          ]
        }
      ]
    },
    {
      "cell_type": "markdown",
      "source": [
        "# Data transformation"
      ],
      "metadata": {
        "id": "HIGsFxf9Zd_l"
      }
    },
    {
      "cell_type": "code",
      "source": [
        "#training data transormation\n",
        "\n",
        "train_transforms = transforms.Compose([transforms.ToTensor(),\n",
        "                                       transforms.Normalize((0.1307), (0.3081)),\n",
        "                                       transforms.RandomRotation((-7.0, 7.0), fill=(255,))\n",
        "                                      ])\n",
        "\n",
        "#testing data transformation\n",
        "test_transforms = transforms.Compose([transforms.ToTensor(),\n",
        "                                      transforms.Normalize((0.1307), (0.3081))])"
      ],
      "metadata": {
        "id": "Ulv5YHEeZW0u"
      },
      "execution_count": 23,
      "outputs": []
    },
    {
      "cell_type": "markdown",
      "source": [
        "# Load data, split it in train/test and apply transform "
      ],
      "metadata": {
        "id": "-uUU8oqOg_ok"
      }
    },
    {
      "cell_type": "code",
      "source": [
        "train = datasets.MNIST('.data/', train=True, download = True, transform=train_transforms)\n",
        "test = datasets.MNIST('.data/', train=False, download = True, transform=test_transforms)"
      ],
      "metadata": {
        "id": "dt4d2Ammg91d"
      },
      "execution_count": 24,
      "outputs": []
    },
    {
      "cell_type": "markdown",
      "source": [
        "# Dataloader arguments and Train/Test Dataloaders"
      ],
      "metadata": {
        "id": "2m9syC6yi_2c"
      }
    },
    {
      "cell_type": "code",
      "source": [
        "from torch.utils.data import dataloader\n",
        "SEED = 1\n",
        "\n",
        "cuda = torch.cuda.is_available()\n",
        "print(\"CUDA available - \", cuda)\n",
        "\n",
        "torch.manual_seed(SEED)\n",
        "\n",
        "if cuda:\n",
        "  torch.cuda.manual_seed(SEED)\n",
        "\n",
        "dataloader_args = dict(shuffle=True, batch_size=128, num_workers=4, pin_memory=True) if cuda else dict(shuffle=True, batch_size=64)\n",
        "\n",
        "train_loader=torch.utils.data.DataLoader(train, **dataloader_args)\n",
        "\n",
        "test_loader=torch.utils.data.DataLoader(test, **dataloader_args)\n"
      ],
      "metadata": {
        "colab": {
          "base_uri": "https://localhost:8080/"
        },
        "id": "jBj12Pn1i_B-",
        "outputId": "f34f2065-5531-497c-bde2-86bb5b3f5057"
      },
      "execution_count": 25,
      "outputs": [
        {
          "output_type": "stream",
          "name": "stdout",
          "text": [
            "CUDA available -  True\n"
          ]
        }
      ]
    },
    {
      "cell_type": "markdown",
      "source": [
        "# View few images"
      ],
      "metadata": {
        "id": "bHiYZMYCE_UZ"
      }
    },
    {
      "cell_type": "code",
      "source": [
        "%matplotlib inline\n",
        "import matplotlib.pyplot as plt\n",
        "\n",
        "dataiter = iter(train_loader)\n",
        "images, labels = next(dataiter)\n",
        "\n",
        "print(images.shape)\n",
        "print(labels.shape)\n",
        "\n",
        "plt.imshow(images[0].numpy().squeeze(),cmap='gray_r')"
      ],
      "metadata": {
        "colab": {
          "base_uri": "https://localhost:8080/",
          "height": 317
        },
        "id": "K8hZCK9NG2uT",
        "outputId": "f1437673-70d6-415a-fe1c-24a546ec20b7"
      },
      "execution_count": 26,
      "outputs": [
        {
          "output_type": "stream",
          "name": "stdout",
          "text": [
            "torch.Size([128, 1, 28, 28])\n",
            "torch.Size([128])\n"
          ]
        },
        {
          "output_type": "execute_result",
          "data": {
            "text/plain": [
              "<matplotlib.image.AxesImage at 0x7f4b553b5640>"
            ]
          },
          "metadata": {},
          "execution_count": 26
        },
        {
          "output_type": "display_data",
          "data": {
            "text/plain": [
              "<Figure size 432x288 with 1 Axes>"
            ],
            "image/png": "[encoded data removed]"
          },
          "metadata": {
            "needs_background": "light"
          }
        }
      ]
    },
    {
      "cell_type": "code",
      "source": [
        "figure = plt.figure()\n",
        "num_of_images=60\n",
        "for index in range (1, num_of_images+1):\n",
        "  plt.subplot(6, 10, index)\n",
        "  plt.axis('off')\n",
        "  plt.imshow(images[index].numpy().squeeze(),cmap='gray_r')\n",
        "\n"
      ],
      "metadata": {
        "colab": {
          "base_uri": "https://localhost:8080/",
          "height": 246
        },
        "id": "aRofC0p7GYvv",
        "outputId": "3aee8c88-17a8-47d1-c226-1e2b2c243e57"
      },
      "execution_count": 27,
      "outputs": [
        {
          "output_type": "display_data",
          "data": {
            "text/plain": [
              "<Figure size 432x288 with 60 Axes>"
            ],
            "image/png": "[encoded data removed]"
          },
          "metadata": {
            "needs_background": "light"
          }
        }
      ]
    },
    {
      "cell_type": "code",
      "source": [
        "!pip install torchsummary\n",
        "from torchsummary import summary\n",
        "use_cuda = torch.cuda.is_available()\n",
        "device = torch.device(\"cuda\" if use_cuda else \"cpu\")\n",
        "print(device)\n"
      ],
      "metadata": {
        "colab": {
          "base_uri": "https://localhost:8080/"
        },
        "id": "ir6Y8HV0Rzct",
        "outputId": "80e8b2ab-01bf-4738-fd78-5617ffd1f038"
      },
      "execution_count": 28,
      "outputs": [
        {
          "output_type": "stream",
          "name": "stdout",
          "text": [
            "Looking in indexes: https://pypi.org/simple, https://us-python.pkg.dev/colab-wheels/public/simple/\n",
            "Requirement already satisfied: torchsummary in /usr/local/lib/python3.8/dist-packages (1.5.1)\n",
            "cuda\n"
          ]
        }
      ]
    },
    {
      "cell_type": "markdown",
      "source": [
        "# Training and Testing - Group Normalization"
      ],
      "metadata": {
        "id": "JYK7yXjPVk4o"
      }
    },
    {
      "cell_type": "code",
      "source": [
        "model = mymodel.Net()"
      ],
      "metadata": {
        "id": "f8ZZlCpGMjsU"
      },
      "execution_count": 29,
      "outputs": []
    },
    {
      "cell_type": "code",
      "source": [
        "from tqdm import tqdm\n",
        "\n",
        "train_losses_group = []\n",
        "test_losses_group = []\n",
        "train_acc_group = []\n",
        "test_acc_group = []\n",
        "type_of_norm = 'gn'\n",
        "\n",
        "def train(model, device, train_loader, optimizer, epoch):\n",
        "  model.train()\n",
        "  pbar = tqdm(train_loader)\n",
        "  correct = 0\n",
        "  processed = 0\n",
        "  for batch_idx, (data, target) in enumerate(pbar):\n",
        "    # get samples\n",
        "    data, target = data.to(device), target.to(device)\n",
        "\n",
        "    # Init\n",
        "    optimizer.zero_grad()\n",
        "  \n",
        "    # Predict\n",
        "    y_pred = model(data, type_of_norm)\n",
        "\n",
        "    # Calculate loss\n",
        "    loss = F.nll_loss(y_pred, target)\n",
        "    train_losses_group.append(loss.item())\n",
        "\n",
        "    # Backpropagation\n",
        "    loss.backward()\n",
        "    optimizer.step()\n",
        "\n",
        "    pred = y_pred.argmax(dim=1, keepdim=True)  \n",
        "    correct += pred.eq(target.view_as(pred)).sum().item()\n",
        "    processed += len(data)\n",
        "\n",
        "    pbar.set_description(desc= f'Loss={loss.item()} Batch_id={batch_idx} Accuracy={100*correct/processed:0.2f}')\n",
        "    train_acc_group.append(100*correct/processed)\n",
        "\n",
        "def test(model, device, test_loader):\n",
        "    model.eval()\n",
        "    test_loss = 0\n",
        "    correct = 0\n",
        "    misclassified_group = 0\n",
        "    with torch.no_grad():\n",
        "        for data, target in test_loader:\n",
        "            data, target = data.to(device), target.to(device)\n",
        "            output = model(data, type_of_norm)\n",
        "            test_loss += F.nll_loss(output, target, reduction='sum').item()  # sum up batch loss\n",
        "            pred = output.argmax(dim=1, keepdim=True)  # get the index of the max log-probability\n",
        "            correct += pred.eq(target.view_as(pred)).sum().item()\n",
        "\n",
        "\n",
        "    test_loss /= len(test_loader.dataset)\n",
        "    test_losses_group.append(test_loss)\n",
        "\n",
        "    print('\\nTest set: Average loss: {:.4f}, Accuracy: {}/{} ({:.2f}%)\\n'.format(\n",
        "        test_loss, correct, len(test_loader.dataset),\n",
        "        100. * correct / len(test_loader.dataset)))\n",
        "    \n",
        "    test_acc_group.append(100. * correct / len(test_loader.dataset))"
      ],
      "metadata": {
        "id": "hYKuC9FYOTZI"
      },
      "execution_count": 30,
      "outputs": []
    },
    {
      "cell_type": "markdown",
      "source": [
        "# Train the model for Group Normalization\n"
      ],
      "metadata": {
        "id": "jqkyDTY9X9zs"
      }
    },
    {
      "cell_type": "code",
      "source": [
        "from torch.optim.lr_scheduler import StepLR\n",
        "\n",
        "model =  mymodel.Net().to(device)\n",
        "#model =  Net().to(device)\n",
        "optimizer = optim.SGD(model.parameters(), lr=0.01, momentum=0.9)\n",
        "scheduler = StepLR(optimizer, step_size=4, gamma=0.1)\n",
        "\n",
        "\n",
        "EPOCHS = 20\n",
        "for epoch in range(EPOCHS):\n",
        "    print(\"EPOCH:\", epoch)\n",
        "    train(model, device, train_loader, optimizer, epoch)\n",
        "    scheduler.step()\n",
        "    test(model, device, test_loader)"
      ],
      "metadata": {
        "id": "tSYQSGQVYAXw",
        "colab": {
          "base_uri": "https://localhost:8080/"
        },
        "outputId": "1741ca03-b509-4047-e729-ab14a51f902f"
      },
      "execution_count": 31,
      "outputs": [
        {
          "output_type": "stream",
          "name": "stdout",
          "text": [
            "EPOCH: 0\n"
          ]
        },
        {
          "output_type": "stream",
          "name": "stderr",
          "text": [
            "Loss=0.6361541152000427 Batch_id=468 Accuracy=52.78: 100%|██████████| 469/469 [00:37<00:00, 12.48it/s]\n"
          ]
        },
        {
          "output_type": "stream",
          "name": "stdout",
          "text": [
            "\n",
            "Test set: Average loss: 0.4780, Accuracy: 8687/10000 (86.87%)\n",
            "\n",
            "EPOCH: 1\n"
          ]
        },
        {
          "output_type": "stream",
          "name": "stderr",
          "text": [
            "Loss=0.22448277473449707 Batch_id=468 Accuracy=90.50: 100%|██████████| 469/469 [00:30<00:00, 15.32it/s]\n"
          ]
        },
        {
          "output_type": "stream",
          "name": "stdout",
          "text": [
            "\n",
            "Test set: Average loss: 0.1355, Accuracy: 9671/10000 (96.71%)\n",
            "\n",
            "EPOCH: 2\n"
          ]
        },
        {
          "output_type": "stream",
          "name": "stderr",
          "text": [
            "Loss=0.12045296281576157 Batch_id=468 Accuracy=95.01: 100%|██████████| 469/469 [00:30<00:00, 15.48it/s]\n"
          ]
        },
        {
          "output_type": "stream",
          "name": "stdout",
          "text": [
            "\n",
            "Test set: Average loss: 0.0912, Accuracy: 9754/10000 (97.54%)\n",
            "\n",
            "EPOCH: 3\n"
          ]
        },
        {
          "output_type": "stream",
          "name": "stderr",
          "text": [
            "Loss=0.10250366479158401 Batch_id=468 Accuracy=95.93: 100%|██████████| 469/469 [00:31<00:00, 14.80it/s]\n"
          ]
        },
        {
          "output_type": "stream",
          "name": "stdout",
          "text": [
            "\n",
            "Test set: Average loss: 0.0768, Accuracy: 9777/10000 (97.77%)\n",
            "\n",
            "EPOCH: 4\n"
          ]
        },
        {
          "output_type": "stream",
          "name": "stderr",
          "text": [
            "Loss=0.17909324169158936 Batch_id=468 Accuracy=96.98: 100%|██████████| 469/469 [00:31<00:00, 15.12it/s]\n"
          ]
        },
        {
          "output_type": "stream",
          "name": "stdout",
          "text": [
            "\n",
            "Test set: Average loss: 0.0586, Accuracy: 9839/10000 (98.39%)\n",
            "\n",
            "EPOCH: 5\n"
          ]
        },
        {
          "output_type": "stream",
          "name": "stderr",
          "text": [
            "Loss=0.09586691111326218 Batch_id=468 Accuracy=97.26: 100%|██████████| 469/469 [00:31<00:00, 14.91it/s]\n"
          ]
        },
        {
          "output_type": "stream",
          "name": "stdout",
          "text": [
            "\n",
            "Test set: Average loss: 0.0579, Accuracy: 9842/10000 (98.42%)\n",
            "\n",
            "EPOCH: 6\n"
          ]
        },
        {
          "output_type": "stream",
          "name": "stderr",
          "text": [
            "Loss=0.06688539683818817 Batch_id=468 Accuracy=97.38: 100%|██████████| 469/469 [00:31<00:00, 14.73it/s]\n"
          ]
        },
        {
          "output_type": "stream",
          "name": "stdout",
          "text": [
            "\n",
            "Test set: Average loss: 0.0568, Accuracy: 9846/10000 (98.46%)\n",
            "\n",
            "EPOCH: 7\n"
          ]
        },
        {
          "output_type": "stream",
          "name": "stderr",
          "text": [
            "Loss=0.06373579800128937 Batch_id=468 Accuracy=97.35: 100%|██████████| 469/469 [00:31<00:00, 15.03it/s]\n"
          ]
        },
        {
          "output_type": "stream",
          "name": "stdout",
          "text": [
            "\n",
            "Test set: Average loss: 0.0531, Accuracy: 9849/10000 (98.49%)\n",
            "\n",
            "EPOCH: 8\n"
          ]
        },
        {
          "output_type": "stream",
          "name": "stderr",
          "text": [
            "Loss=0.04934915900230408 Batch_id=468 Accuracy=97.53: 100%|██████████| 469/469 [00:31<00:00, 14.79it/s]\n"
          ]
        },
        {
          "output_type": "stream",
          "name": "stdout",
          "text": [
            "\n",
            "Test set: Average loss: 0.0523, Accuracy: 9856/10000 (98.56%)\n",
            "\n",
            "EPOCH: 9\n"
          ]
        },
        {
          "output_type": "stream",
          "name": "stderr",
          "text": [
            "Loss=0.055248986929655075 Batch_id=468 Accuracy=97.49: 100%|██████████| 469/469 [00:31<00:00, 14.66it/s]\n"
          ]
        },
        {
          "output_type": "stream",
          "name": "stdout",
          "text": [
            "\n",
            "Test set: Average loss: 0.0523, Accuracy: 9857/10000 (98.57%)\n",
            "\n",
            "EPOCH: 10\n"
          ]
        },
        {
          "output_type": "stream",
          "name": "stderr",
          "text": [
            "Loss=0.1532980054616928 Batch_id=468 Accuracy=97.50: 100%|██████████| 469/469 [00:31<00:00, 14.94it/s]\n"
          ]
        },
        {
          "output_type": "stream",
          "name": "stdout",
          "text": [
            "\n",
            "Test set: Average loss: 0.0520, Accuracy: 9858/10000 (98.58%)\n",
            "\n",
            "EPOCH: 11\n"
          ]
        },
        {
          "output_type": "stream",
          "name": "stderr",
          "text": [
            "Loss=0.06959110498428345 Batch_id=468 Accuracy=97.47: 100%|██████████| 469/469 [00:30<00:00, 15.21it/s]\n"
          ]
        },
        {
          "output_type": "stream",
          "name": "stdout",
          "text": [
            "\n",
            "Test set: Average loss: 0.0523, Accuracy: 9853/10000 (98.53%)\n",
            "\n",
            "EPOCH: 12\n"
          ]
        },
        {
          "output_type": "stream",
          "name": "stderr",
          "text": [
            "Loss=0.15658292174339294 Batch_id=468 Accuracy=97.48: 100%|██████████| 469/469 [00:30<00:00, 15.28it/s]\n"
          ]
        },
        {
          "output_type": "stream",
          "name": "stdout",
          "text": [
            "\n",
            "Test set: Average loss: 0.0521, Accuracy: 9855/10000 (98.55%)\n",
            "\n",
            "EPOCH: 13\n"
          ]
        },
        {
          "output_type": "stream",
          "name": "stderr",
          "text": [
            "Loss=0.04076695442199707 Batch_id=468 Accuracy=97.47: 100%|██████████| 469/469 [00:31<00:00, 15.01it/s]\n"
          ]
        },
        {
          "output_type": "stream",
          "name": "stdout",
          "text": [
            "\n",
            "Test set: Average loss: 0.0521, Accuracy: 9857/10000 (98.57%)\n",
            "\n",
            "EPOCH: 14\n"
          ]
        },
        {
          "output_type": "stream",
          "name": "stderr",
          "text": [
            "Loss=0.05112069472670555 Batch_id=468 Accuracy=97.56: 100%|██████████| 469/469 [00:30<00:00, 15.20it/s]\n"
          ]
        },
        {
          "output_type": "stream",
          "name": "stdout",
          "text": [
            "\n",
            "Test set: Average loss: 0.0521, Accuracy: 9856/10000 (98.56%)\n",
            "\n",
            "EPOCH: 15\n"
          ]
        },
        {
          "output_type": "stream",
          "name": "stderr",
          "text": [
            "Loss=0.0670083686709404 Batch_id=468 Accuracy=97.56: 100%|██████████| 469/469 [00:31<00:00, 15.06it/s]\n"
          ]
        },
        {
          "output_type": "stream",
          "name": "stdout",
          "text": [
            "\n",
            "Test set: Average loss: 0.0520, Accuracy: 9857/10000 (98.57%)\n",
            "\n",
            "EPOCH: 16\n"
          ]
        },
        {
          "output_type": "stream",
          "name": "stderr",
          "text": [
            "Loss=0.16821514070034027 Batch_id=468 Accuracy=97.51: 100%|██████████| 469/469 [00:29<00:00, 15.66it/s]\n"
          ]
        },
        {
          "output_type": "stream",
          "name": "stdout",
          "text": [
            "\n",
            "Test set: Average loss: 0.0520, Accuracy: 9857/10000 (98.57%)\n",
            "\n",
            "EPOCH: 17\n"
          ]
        },
        {
          "output_type": "stream",
          "name": "stderr",
          "text": [
            "Loss=0.039854954928159714 Batch_id=468 Accuracy=97.50: 100%|██████████| 469/469 [00:29<00:00, 15.64it/s]\n"
          ]
        },
        {
          "output_type": "stream",
          "name": "stdout",
          "text": [
            "\n",
            "Test set: Average loss: 0.0520, Accuracy: 9857/10000 (98.57%)\n",
            "\n",
            "EPOCH: 18\n"
          ]
        },
        {
          "output_type": "stream",
          "name": "stderr",
          "text": [
            "Loss=0.11110485345125198 Batch_id=468 Accuracy=97.54: 100%|██████████| 469/469 [00:30<00:00, 15.44it/s]\n"
          ]
        },
        {
          "output_type": "stream",
          "name": "stdout",
          "text": [
            "\n",
            "Test set: Average loss: 0.0520, Accuracy: 9857/10000 (98.57%)\n",
            "\n",
            "EPOCH: 19\n"
          ]
        },
        {
          "output_type": "stream",
          "name": "stderr",
          "text": [
            "Loss=0.09852883219718933 Batch_id=468 Accuracy=97.48: 100%|██████████| 469/469 [00:30<00:00, 15.55it/s]\n"
          ]
        },
        {
          "output_type": "stream",
          "name": "stdout",
          "text": [
            "\n",
            "Test set: Average loss: 0.0520, Accuracy: 9857/10000 (98.57%)\n",
            "\n"
          ]
        }
      ]
    },
    {
      "cell_type": "markdown",
      "source": [
        "# Training and Testing - Layer Normalization"
      ],
      "metadata": {
        "id": "qM8HwXhP8eoY"
      }
    },
    {
      "cell_type": "code",
      "source": [
        "from tqdm import tqdm\n",
        "\n",
        "train_losses_layer = []\n",
        "test_losses_layer = []\n",
        "train_acc_layer = []\n",
        "test_acc_layer = []\n",
        "type_of_norm = 'ln'\n",
        "\n",
        "def train(model, device, train_loader, optimizer, epoch):\n",
        "  model.train()\n",
        "  pbar = tqdm(train_loader)\n",
        "  correct = 0\n",
        "  processed = 0\n",
        "  for batch_idx, (data, target) in enumerate(pbar):\n",
        "    # get samples\n",
        "    data, target = data.to(device), target.to(device)\n",
        "\n",
        "    # Init\n",
        "    optimizer.zero_grad()\n",
        "  \n",
        "    # Predict\n",
        "    y_pred = model(data, type_of_norm)\n",
        "\n",
        "    # Calculate loss\n",
        "    loss = F.nll_loss(y_pred, target)\n",
        "    train_losses_layer.append(loss.item())\n",
        "\n",
        "    # Backpropagation\n",
        "    loss.backward()\n",
        "    optimizer.step()\n",
        "\n",
        "    pred = y_pred.argmax(dim=1, keepdim=True)  \n",
        "    correct += pred.eq(target.view_as(pred)).sum().item()\n",
        "    processed += len(data)\n",
        "\n",
        "    pbar.set_description(desc= f'Loss={loss.item()} Batch_id={batch_idx} Accuracy={100*correct/processed:0.2f}')\n",
        "    train_acc_layer.append(100*correct/processed)\n",
        "\n",
        "def test(model, device, test_loader):\n",
        "    model.eval()\n",
        "    test_loss = 0\n",
        "    correct = 0\n",
        "    \n",
        "    with torch.no_grad():\n",
        "        for data, target in test_loader:\n",
        "            data, target = data.to(device), target.to(device)\n",
        "            output = model(data, type_of_norm)\n",
        "            test_loss += F.nll_loss(output, target, reduction='sum').item()  # sum up batch loss\n",
        "            pred = output.argmax(dim=1, keepdim=True)  # get the index of the max log-probability\n",
        "            correct += pred.eq(target.view_as(pred)).sum().item()\n",
        "\n",
        "\n",
        "    test_loss /= len(test_loader.dataset)\n",
        "    test_losses_layer.append(test_loss)\n",
        "\n",
        "    print('\\nTest set: Average loss: {:.4f}, Accuracy: {}/{} ({:.2f}%)\\n'.format(\n",
        "        test_loss, correct, len(test_loader.dataset),\n",
        "        100. * correct / len(test_loader.dataset)))\n",
        "    \n",
        "    test_acc_layer.append(100. * correct / len(test_loader.dataset))"
      ],
      "metadata": {
        "id": "vtXcJVIm8fBp"
      },
      "execution_count": 32,
      "outputs": []
    },
    {
      "cell_type": "markdown",
      "source": [
        "# Train the model for Layer Normalization\n"
      ],
      "metadata": {
        "id": "1D4_QJjxhtiu"
      }
    },
    {
      "cell_type": "code",
      "source": [
        "from torch.optim.lr_scheduler import StepLR\n",
        "\n",
        "model =  mymodel.Net().to(device)\n",
        "optimizer = optim.SGD(model.parameters(), lr=0.01, momentum=0.9)\n",
        "scheduler = StepLR(optimizer, step_size=4, gamma=0.1)\n",
        "\n",
        "\n",
        "EPOCHS = 20\n",
        "for epoch in range(EPOCHS):\n",
        "    print(\"EPOCH:\", epoch)\n",
        "    train(model, device, train_loader, optimizer, epoch)\n",
        "    scheduler.step()\n",
        "    test(model, device, test_loader)"
      ],
      "metadata": {
        "colab": {
          "base_uri": "https://localhost:8080/"
        },
        "id": "y58n0wYqhzr8",
        "outputId": "3513205e-fd1e-43ea-a28b-52c2db7c2216"
      },
      "execution_count": 33,
      "outputs": [
        {
          "metadata": {
            "tags": null
          },
          "name": "stdout",
          "output_type": "stream",
          "text": [
            "EPOCH: 0\n"
          ]
        },
        {
          "metadata": {
            "tags": null
          },
          "name": "stderr",
          "output_type": "stream",
          "text": [
            "Loss=0.8381774425506592 Batch_id=468 Accuracy=34.77: 100%|██████████| 469/469 [00:37<00:00, 12.47it/s]\n"
          ]
        },
        {
          "metadata": {
            "tags": null
          },
          "name": "stdout",
          "output_type": "stream",
          "text": [
            "\n",
            "Test set: Average loss: 0.7788, Accuracy: 8222/10000 (82.22%)\n",
            "\n",
            "EPOCH: 1\n"
          ]
        },
        {
          "metadata": {
            "tags": null
          },
          "name": "stderr",
          "output_type": "stream",
          "text": [
            "Loss=0.536220371723175 Batch_id=468 Accuracy=86.25: 100%|██████████| 469/469 [00:30<00:00, 15.45it/s]\n"
          ]
        },
        {
          "metadata": {
            "tags": null
          },
          "name": "stdout",
          "output_type": "stream",
          "text": [
            "\n",
            "Test set: Average loss: 0.1768, Accuracy: 9555/10000 (95.55%)\n",
            "\n",
            "EPOCH: 2\n"
          ]
        },
        {
          "metadata": {
            "tags": null
          },
          "name": "stderr",
          "output_type": "stream",
          "text": [
            "Loss=0.2770744264125824 Batch_id=468 Accuracy=92.42: 100%|██████████| 469/469 [00:30<00:00, 15.24it/s]\n"
          ]
        },
        {
          "metadata": {
            "tags": null
          },
          "name": "stdout",
          "output_type": "stream",
          "text": [
            "\n",
            "Test set: Average loss: 0.1188, Accuracy: 9685/10000 (96.85%)\n",
            "\n",
            "EPOCH: 3\n"
          ]
        },
        {
          "metadata": {
            "tags": null
          },
          "name": "stderr",
          "output_type": "stream",
          "text": [
            "Loss=0.10451389104127884 Batch_id=468 Accuracy=93.93: 100%|██████████| 469/469 [00:31<00:00, 14.68it/s]\n"
          ]
        },
        {
          "metadata": {
            "tags": null
          },
          "name": "stdout",
          "output_type": "stream",
          "text": [
            "\n",
            "Test set: Average loss: 0.1005, Accuracy: 9716/10000 (97.16%)\n",
            "\n",
            "EPOCH: 4\n"
          ]
        },
        {
          "metadata": {
            "tags": null
          },
          "name": "stderr",
          "output_type": "stream",
          "text": [
            "Loss=0.13494324684143066 Batch_id=468 Accuracy=95.32: 100%|██████████| 469/469 [00:30<00:00, 15.29it/s]\n"
          ]
        },
        {
          "metadata": {
            "tags": null
          },
          "name": "stdout",
          "output_type": "stream",
          "text": [
            "\n",
            "Test set: Average loss: 0.0818, Accuracy: 9768/10000 (97.68%)\n",
            "\n",
            "EPOCH: 5\n"
          ]
        },
        {
          "metadata": {
            "tags": null
          },
          "name": "stderr",
          "output_type": "stream",
          "text": [
            "Loss=0.18205611407756805 Batch_id=468 Accuracy=95.68: 100%|██████████| 469/469 [00:30<00:00, 15.46it/s]\n"
          ]
        },
        {
          "metadata": {
            "tags": null
          },
          "name": "stdout",
          "output_type": "stream",
          "text": [
            "\n",
            "Test set: Average loss: 0.0762, Accuracy: 9778/10000 (97.78%)\n",
            "\n",
            "EPOCH: 6\n"
          ]
        },
        {
          "metadata": {
            "tags": null
          },
          "name": "stderr",
          "output_type": "stream",
          "text": [
            "Loss=0.0859673023223877 Batch_id=468 Accuracy=95.86: 100%|██████████| 469/469 [00:30<00:00, 15.20it/s]\n"
          ]
        },
        {
          "metadata": {
            "tags": null
          },
          "name": "stdout",
          "output_type": "stream",
          "text": [
            "\n",
            "Test set: Average loss: 0.0754, Accuracy: 9788/10000 (97.88%)\n",
            "\n",
            "EPOCH: 7\n"
          ]
        },
        {
          "metadata": {
            "tags": null
          },
          "name": "stderr",
          "output_type": "stream",
          "text": [
            "Loss=0.1554224193096161 Batch_id=468 Accuracy=95.98: 100%|██████████| 469/469 [00:30<00:00, 15.41it/s]\n"
          ]
        },
        {
          "metadata": {
            "tags": null
          },
          "name": "stdout",
          "output_type": "stream",
          "text": [
            "\n",
            "Test set: Average loss: 0.0747, Accuracy: 9779/10000 (97.79%)\n",
            "\n",
            "EPOCH: 8\n"
          ]
        },
        {
          "metadata": {
            "tags": null
          },
          "name": "stderr",
          "output_type": "stream",
          "text": [
            "Loss=0.10367237776517868 Batch_id=468 Accuracy=96.02: 100%|██████████| 469/469 [00:30<00:00, 15.45it/s]\n"
          ]
        },
        {
          "metadata": {
            "tags": null
          },
          "name": "stdout",
          "output_type": "stream",
          "text": [
            "\n",
            "Test set: Average loss: 0.0728, Accuracy: 9790/10000 (97.90%)\n",
            "\n",
            "EPOCH: 9\n"
          ]
        },
        {
          "metadata": {
            "tags": null
          },
          "name": "stderr",
          "output_type": "stream",
          "text": [
            "Loss=0.13526701927185059 Batch_id=468 Accuracy=96.07: 100%|██████████| 469/469 [00:30<00:00, 15.63it/s]\n"
          ]
        },
        {
          "metadata": {
            "tags": null
          },
          "name": "stdout",
          "output_type": "stream",
          "text": [
            "\n",
            "Test set: Average loss: 0.0725, Accuracy: 9791/10000 (97.91%)\n",
            "\n",
            "EPOCH: 10\n"
          ]
        },
        {
          "metadata": {
            "tags": null
          },
          "name": "stderr",
          "output_type": "stream",
          "text": [
            "Loss=0.09238352626562119 Batch_id=468 Accuracy=96.05: 100%|██████████| 469/469 [00:30<00:00, 15.54it/s]\n"
          ]
        },
        {
          "metadata": {
            "tags": null
          },
          "name": "stdout",
          "output_type": "stream",
          "text": [
            "\n",
            "Test set: Average loss: 0.0723, Accuracy: 9793/10000 (97.93%)\n",
            "\n",
            "EPOCH: 11\n"
          ]
        },
        {
          "metadata": {
            "tags": null
          },
          "name": "stderr",
          "output_type": "stream",
          "text": [
            "Loss=0.12384525686502457 Batch_id=468 Accuracy=96.09: 100%|██████████| 469/469 [00:30<00:00, 15.34it/s]\n"
          ]
        },
        {
          "metadata": {
            "tags": null
          },
          "name": "stdout",
          "output_type": "stream",
          "text": [
            "\n",
            "Test set: Average loss: 0.0716, Accuracy: 9792/10000 (97.92%)\n",
            "\n",
            "EPOCH: 12\n"
          ]
        },
        {
          "metadata": {
            "tags": null
          },
          "name": "stderr",
          "output_type": "stream",
          "text": [
            "Loss=0.16014167666435242 Batch_id=468 Accuracy=96.08: 100%|██████████| 469/469 [00:30<00:00, 15.47it/s]\n"
          ]
        },
        {
          "metadata": {
            "tags": null
          },
          "name": "stdout",
          "output_type": "stream",
          "text": [
            "\n",
            "Test set: Average loss: 0.0717, Accuracy: 9792/10000 (97.92%)\n",
            "\n",
            "EPOCH: 13\n"
          ]
        },
        {
          "metadata": {
            "tags": null
          },
          "name": "stderr",
          "output_type": "stream",
          "text": [
            "Loss=0.10874847322702408 Batch_id=468 Accuracy=96.16: 100%|██████████| 469/469 [00:30<00:00, 15.53it/s]\n"
          ]
        },
        {
          "output_type": "stream",
          "name": "stdout",
          "text": [
            "\n",
            "Test set: Average loss: 0.0717, Accuracy: 9791/10000 (97.91%)\n",
            "\n",
            "EPOCH: 14\n"
          ]
        },
        {
          "output_type": "stream",
          "name": "stderr",
          "text": [
            "Loss=0.042490649968385696 Batch_id=468 Accuracy=95.98: 100%|██████████| 469/469 [00:30<00:00, 15.25it/s]\n"
          ]
        },
        {
          "output_type": "stream",
          "name": "stdout",
          "text": [
            "\n",
            "Test set: Average loss: 0.0718, Accuracy: 9789/10000 (97.89%)\n",
            "\n",
            "EPOCH: 15\n"
          ]
        },
        {
          "output_type": "stream",
          "name": "stderr",
          "text": [
            "Loss=0.12329066544771194 Batch_id=468 Accuracy=96.12: 100%|██████████| 469/469 [00:30<00:00, 15.30it/s]\n"
          ]
        },
        {
          "output_type": "stream",
          "name": "stdout",
          "text": [
            "\n",
            "Test set: Average loss: 0.0719, Accuracy: 9788/10000 (97.88%)\n",
            "\n",
            "EPOCH: 16\n"
          ]
        },
        {
          "output_type": "stream",
          "name": "stderr",
          "text": [
            "Loss=0.11479946970939636 Batch_id=468 Accuracy=96.14: 100%|██████████| 469/469 [00:30<00:00, 15.42it/s]\n"
          ]
        },
        {
          "output_type": "stream",
          "name": "stdout",
          "text": [
            "\n",
            "Test set: Average loss: 0.0719, Accuracy: 9788/10000 (97.88%)\n",
            "\n",
            "EPOCH: 17\n"
          ]
        },
        {
          "output_type": "stream",
          "name": "stderr",
          "text": [
            "Loss=0.18256346881389618 Batch_id=468 Accuracy=96.27: 100%|██████████| 469/469 [00:30<00:00, 15.16it/s]\n"
          ]
        },
        {
          "output_type": "stream",
          "name": "stdout",
          "text": [
            "\n",
            "Test set: Average loss: 0.0719, Accuracy: 9789/10000 (97.89%)\n",
            "\n",
            "EPOCH: 18\n"
          ]
        },
        {
          "output_type": "stream",
          "name": "stderr",
          "text": [
            "Loss=0.0918024480342865 Batch_id=468 Accuracy=96.07: 100%|██████████| 469/469 [00:30<00:00, 15.48it/s]\n"
          ]
        },
        {
          "output_type": "stream",
          "name": "stdout",
          "text": [
            "\n",
            "Test set: Average loss: 0.0719, Accuracy: 9789/10000 (97.89%)\n",
            "\n",
            "EPOCH: 19\n"
          ]
        },
        {
          "output_type": "stream",
          "name": "stderr",
          "text": [
            "Loss=0.0918445959687233 Batch_id=468 Accuracy=96.15: 100%|██████████| 469/469 [00:30<00:00, 15.15it/s]\n"
          ]
        },
        {
          "output_type": "stream",
          "name": "stdout",
          "text": [
            "\n",
            "Test set: Average loss: 0.0719, Accuracy: 9789/10000 (97.89%)\n",
            "\n"
          ]
        }
      ]
    },
    {
      "cell_type": "markdown",
      "source": [
        " # Training and Testing - Batch Normalization and L1 Regularization"
      ],
      "metadata": {
        "id": "CeXf1Pa3iAeE"
      }
    },
    {
      "cell_type": "code",
      "source": [
        "from tqdm import tqdm\n",
        "\n",
        "train_losses_batch = []\n",
        "test_losses_batch = []\n",
        "train_acc_batch = []\n",
        "test_acc_batch = []\n",
        "type_of_norm = 'bn'\n",
        "\n",
        "mse=nn.MSELoss()\n",
        "lambda_l1 = 0.01\n",
        "\n",
        "\n",
        "def train(model, device, train_loader, optimizer, epoch):\n",
        "  model.train()\n",
        "  pbar = tqdm(train_loader)\n",
        "  correct = 0\n",
        "  processed = 0\n",
        "  for batch_idx, (data, target) in enumerate(pbar):\n",
        "    # get samples\n",
        "    data, target = data.to(device), target.to(device)\n",
        "\n",
        "    # Init\n",
        "    optimizer.zero_grad()\n",
        "  \n",
        "    # Predict\n",
        "    y_pred = model(data, type_of_norm)\n",
        "\n",
        "    # Calculate loss\n",
        "    target=target.float().unsqueeze(dim=1)\n",
        "\n",
        "    loss = mse(y_pred, target)\n",
        "    l1 = 0\n",
        "    for p in model.parameters():\n",
        "      l1 = l1 + p.abs().sum()\n",
        "    loss = loss + lambda_l1 * l1\n",
        "    \n",
        "\n",
        "    # Backpropagation\n",
        "    loss.backward()\n",
        "    optimizer.step()\n",
        "\n",
        "    pred = y_pred.argmax(dim=1, keepdim=True)  \n",
        "    correct += pred.eq(target.view_as(pred)).sum().item()\n",
        "    processed += len(data)\n",
        "\n",
        "    pbar.set_description(desc= f'Loss={loss.item()} Batch_id={batch_idx} Accuracy={100*correct/processed:0.2f}')\n",
        "    train_acc_batch.append(100*correct/processed)\n",
        "\n",
        "def test(model, device, test_loader):\n",
        "    model.eval()\n",
        "    test_loss = 0\n",
        "    correct = 0\n",
        "    misclassiffied = 0\n",
        "    with torch.no_grad():\n",
        "        for data, target in test_loader:\n",
        "            data, target = data.to(device), target.to(device)\n",
        "            output = model(data, type_of_norm)\n",
        "            #test_loss += F.nll_loss(output, target, reduction='sum').item()  # sum up batch loss\n",
        "            target=target.float().unsqueeze(dim=1)\n",
        "            test_loss += mse(output, target).item()  # sum up batch loss\n",
        "            pred = output.argmax(dim=1, keepdim=True)  # get the index of the max log-probability\n",
        "            correct += pred.eq(target.view_as(pred)).sum().item()\n",
        "\n",
        "\n",
        "    test_loss /= len(test_loader.dataset)\n",
        "    test_losses_batch.append(test_loss)\n",
        "\n",
        "    print('\\nTest set: Average loss: {:.4f}, Accuracy: {}/{} ({:.2f}%)\\n'.format(\n",
        "        test_loss, correct, len(test_loader.dataset),\n",
        "        100. * correct / len(test_loader.dataset)))\n",
        "    \n",
        "    test_acc_batch.append(100. * correct / len(test_loader.dataset))\n"
      ],
      "metadata": {
        "id": "8LsSmsQzzAG1"
      },
      "execution_count": 34,
      "outputs": []
    },
    {
      "cell_type": "markdown",
      "source": [
        "# Train the model for Batch Normalization and L1 Regularization"
      ],
      "metadata": {
        "id": "qCRj-kG4mpHN"
      }
    },
    {
      "cell_type": "code",
      "source": [
        "from torch.optim.lr_scheduler import StepLR\n",
        "\n",
        "model =  mymodel.Net().to(device)\n",
        "optimizer = optim.SGD(model.parameters(), lr=0.01, momentum=0.9)\n",
        "scheduler = StepLR(optimizer, step_size=4, gamma=0.1)\n",
        "\n",
        "\n",
        "EPOCHS = 20\n",
        "for epoch in range(EPOCHS):\n",
        "    print(\"EPOCH:\", epoch)\n",
        "    train(model, device, train_loader, optimizer, epoch)\n",
        "    scheduler.step()\n",
        "    test(model, device, test_loader)"
      ],
      "metadata": {
        "colab": {
          "base_uri": "https://localhost:8080/"
        },
        "id": "YnILUo7Bmxad",
        "outputId": "c2b56aaf-f029-4a51-8721-40d49bc35493"
      },
      "execution_count": 35,
      "outputs": [
        {
          "output_type": "stream",
          "name": "stdout",
          "text": [
            "EPOCH: 0\n"
          ]
        },
        {
          "output_type": "stream",
          "name": "stderr",
          "text": [
            "  0%|          | 0/469 [00:00<?, ?it/s]/usr/local/lib/python3.8/dist-packages/torch/nn/modules/loss.py:536: UserWarning: Using a target size (torch.Size([128, 1])) that is different to the input size (torch.Size([128, 10])). This will likely lead to incorrect results due to broadcasting. Please ensure they have the same size.\n",
            "  return F.mse_loss(input, target, reduction=self.reduction)\n",
            "Loss=53.36402130126953 Batch_id=467 Accuracy=9.65: 100%|█████████▉| 468/469 [00:32<00:00, 20.38it/s]/usr/local/lib/python3.8/dist-packages/torch/nn/modules/loss.py:536: UserWarning: Using a target size (torch.Size([96, 1])) that is different to the input size (torch.Size([96, 10])). This will likely lead to incorrect results due to broadcasting. Please ensure they have the same size.\n",
            "  return F.mse_loss(input, target, reduction=self.reduction)\n",
            "Loss=52.04801559448242 Batch_id=468 Accuracy=9.65: 100%|██████████| 469/469 [00:32<00:00, 14.55it/s]\n",
            "/usr/local/lib/python3.8/dist-packages/torch/nn/modules/loss.py:536: UserWarning: Using a target size (torch.Size([16, 1])) that is different to the input size (torch.Size([16, 10])). This will likely lead to incorrect results due to broadcasting. Please ensure they have the same size.\n",
            "  return F.mse_loss(input, target, reduction=self.reduction)\n"
          ]
        },
        {
          "output_type": "stream",
          "name": "stdout",
          "text": [
            "\n",
            "Test set: Average loss: 0.4248, Accuracy: 980/10000 (9.80%)\n",
            "\n",
            "EPOCH: 1\n"
          ]
        },
        {
          "output_type": "stream",
          "name": "stderr",
          "text": [
            "Loss=49.65608596801758 Batch_id=468 Accuracy=9.99: 100%|██████████| 469/469 [00:30<00:00, 15.28it/s]\n"
          ]
        },
        {
          "output_type": "stream",
          "name": "stdout",
          "text": [
            "\n",
            "Test set: Average loss: 0.4250, Accuracy: 980/10000 (9.80%)\n",
            "\n",
            "EPOCH: 2\n"
          ]
        },
        {
          "output_type": "stream",
          "name": "stderr",
          "text": [
            "Loss=53.28642272949219 Batch_id=468 Accuracy=9.97: 100%|██████████| 469/469 [00:32<00:00, 14.60it/s]\n"
          ]
        },
        {
          "output_type": "stream",
          "name": "stdout",
          "text": [
            "\n",
            "Test set: Average loss: 0.4257, Accuracy: 980/10000 (9.80%)\n",
            "\n",
            "EPOCH: 3\n"
          ]
        },
        {
          "output_type": "stream",
          "name": "stderr",
          "text": [
            "Loss=57.62498474121094 Batch_id=468 Accuracy=9.91: 100%|██████████| 469/469 [00:31<00:00, 14.84it/s]\n"
          ]
        },
        {
          "output_type": "stream",
          "name": "stdout",
          "text": [
            "\n",
            "Test set: Average loss: 0.4261, Accuracy: 980/10000 (9.80%)\n",
            "\n",
            "EPOCH: 4\n"
          ]
        },
        {
          "output_type": "stream",
          "name": "stderr",
          "text": [
            "Loss=56.8648681640625 Batch_id=468 Accuracy=9.87: 100%|██████████| 469/469 [00:31<00:00, 14.97it/s]\n"
          ]
        },
        {
          "output_type": "stream",
          "name": "stdout",
          "text": [
            "\n",
            "Test set: Average loss: 0.4256, Accuracy: 980/10000 (9.80%)\n",
            "\n",
            "EPOCH: 5\n"
          ]
        },
        {
          "output_type": "stream",
          "name": "stderr",
          "text": [
            "Loss=60.09457778930664 Batch_id=468 Accuracy=9.87: 100%|██████████| 469/469 [00:30<00:00, 15.16it/s]\n"
          ]
        },
        {
          "output_type": "stream",
          "name": "stdout",
          "text": [
            "\n",
            "Test set: Average loss: 0.4257, Accuracy: 980/10000 (9.80%)\n",
            "\n",
            "EPOCH: 6\n"
          ]
        },
        {
          "output_type": "stream",
          "name": "stderr",
          "text": [
            "Loss=47.66484451293945 Batch_id=468 Accuracy=9.87: 100%|██████████| 469/469 [00:31<00:00, 15.12it/s]\n"
          ]
        },
        {
          "output_type": "stream",
          "name": "stdout",
          "text": [
            "\n",
            "Test set: Average loss: 0.4253, Accuracy: 980/10000 (9.80%)\n",
            "\n",
            "EPOCH: 7\n"
          ]
        },
        {
          "output_type": "stream",
          "name": "stderr",
          "text": [
            "Loss=53.66343307495117 Batch_id=468 Accuracy=9.87: 100%|██████████| 469/469 [00:31<00:00, 15.13it/s]\n"
          ]
        },
        {
          "output_type": "stream",
          "name": "stdout",
          "text": [
            "\n",
            "Test set: Average loss: 0.4273, Accuracy: 980/10000 (9.80%)\n",
            "\n",
            "EPOCH: 8\n"
          ]
        },
        {
          "output_type": "stream",
          "name": "stderr",
          "text": [
            "Loss=53.216365814208984 Batch_id=468 Accuracy=9.87: 100%|██████████| 469/469 [00:30<00:00, 15.20it/s]\n"
          ]
        },
        {
          "output_type": "stream",
          "name": "stdout",
          "text": [
            "\n",
            "Test set: Average loss: 0.4252, Accuracy: 980/10000 (9.80%)\n",
            "\n",
            "EPOCH: 9\n"
          ]
        },
        {
          "output_type": "stream",
          "name": "stderr",
          "text": [
            "Loss=45.884986877441406 Batch_id=468 Accuracy=9.87: 100%|██████████| 469/469 [00:31<00:00, 15.11it/s]\n"
          ]
        },
        {
          "output_type": "stream",
          "name": "stdout",
          "text": [
            "\n",
            "Test set: Average loss: 0.4258, Accuracy: 980/10000 (9.80%)\n",
            "\n",
            "EPOCH: 10\n"
          ]
        },
        {
          "output_type": "stream",
          "name": "stderr",
          "text": [
            "Loss=51.09905242919922 Batch_id=468 Accuracy=9.87: 100%|██████████| 469/469 [00:31<00:00, 15.05it/s]\n"
          ]
        },
        {
          "output_type": "stream",
          "name": "stdout",
          "text": [
            "\n",
            "Test set: Average loss: 0.4259, Accuracy: 980/10000 (9.80%)\n",
            "\n",
            "EPOCH: 11\n"
          ]
        },
        {
          "output_type": "stream",
          "name": "stderr",
          "text": [
            "Loss=51.37373352050781 Batch_id=468 Accuracy=9.87: 100%|██████████| 469/469 [00:31<00:00, 14.94it/s]\n"
          ]
        },
        {
          "output_type": "stream",
          "name": "stdout",
          "text": [
            "\n",
            "Test set: Average loss: 0.4275, Accuracy: 980/10000 (9.80%)\n",
            "\n",
            "EPOCH: 12\n"
          ]
        },
        {
          "output_type": "stream",
          "name": "stderr",
          "text": [
            "Loss=48.118431091308594 Batch_id=468 Accuracy=9.87: 100%|██████████| 469/469 [00:31<00:00, 14.91it/s]\n"
          ]
        },
        {
          "output_type": "stream",
          "name": "stdout",
          "text": [
            "\n",
            "Test set: Average loss: 0.4286, Accuracy: 980/10000 (9.80%)\n",
            "\n",
            "EPOCH: 13\n"
          ]
        },
        {
          "output_type": "stream",
          "name": "stderr",
          "text": [
            "Loss=58.88043212890625 Batch_id=468 Accuracy=9.87: 100%|██████████| 469/469 [00:31<00:00, 15.09it/s]\n"
          ]
        },
        {
          "output_type": "stream",
          "name": "stdout",
          "text": [
            "\n",
            "Test set: Average loss: 0.4259, Accuracy: 980/10000 (9.80%)\n",
            "\n",
            "EPOCH: 14\n"
          ]
        },
        {
          "output_type": "stream",
          "name": "stderr",
          "text": [
            "Loss=51.51176834106445 Batch_id=468 Accuracy=9.87: 100%|██████████| 469/469 [00:32<00:00, 14.42it/s]\n"
          ]
        },
        {
          "output_type": "stream",
          "name": "stdout",
          "text": [
            "\n",
            "Test set: Average loss: 0.4252, Accuracy: 980/10000 (9.80%)\n",
            "\n",
            "EPOCH: 15\n"
          ]
        },
        {
          "output_type": "stream",
          "name": "stderr",
          "text": [
            "Loss=59.72718048095703 Batch_id=468 Accuracy=9.87: 100%|██████████| 469/469 [00:31<00:00, 14.69it/s]\n"
          ]
        },
        {
          "output_type": "stream",
          "name": "stdout",
          "text": [
            "\n",
            "Test set: Average loss: 0.4259, Accuracy: 980/10000 (9.80%)\n",
            "\n",
            "EPOCH: 16\n"
          ]
        },
        {
          "output_type": "stream",
          "name": "stderr",
          "text": [
            "Loss=52.1455192565918 Batch_id=468 Accuracy=9.87: 100%|██████████| 469/469 [00:31<00:00, 14.77it/s]\n"
          ]
        },
        {
          "output_type": "stream",
          "name": "stdout",
          "text": [
            "\n",
            "Test set: Average loss: 0.4268, Accuracy: 980/10000 (9.80%)\n",
            "\n",
            "EPOCH: 17\n"
          ]
        },
        {
          "output_type": "stream",
          "name": "stderr",
          "text": [
            "Loss=58.160011291503906 Batch_id=468 Accuracy=9.87: 100%|██████████| 469/469 [00:31<00:00, 14.76it/s]\n"
          ]
        },
        {
          "output_type": "stream",
          "name": "stdout",
          "text": [
            "\n",
            "Test set: Average loss: 0.4261, Accuracy: 980/10000 (9.80%)\n",
            "\n",
            "EPOCH: 18\n"
          ]
        },
        {
          "output_type": "stream",
          "name": "stderr",
          "text": [
            "Loss=53.44129943847656 Batch_id=468 Accuracy=9.87: 100%|██████████| 469/469 [00:32<00:00, 14.56it/s]\n"
          ]
        },
        {
          "output_type": "stream",
          "name": "stdout",
          "text": [
            "\n",
            "Test set: Average loss: 0.4249, Accuracy: 980/10000 (9.80%)\n",
            "\n",
            "EPOCH: 19\n"
          ]
        },
        {
          "output_type": "stream",
          "name": "stderr",
          "text": [
            "Loss=56.334102630615234 Batch_id=468 Accuracy=9.87: 100%|██████████| 469/469 [00:31<00:00, 14.85it/s]\n"
          ]
        },
        {
          "output_type": "stream",
          "name": "stdout",
          "text": [
            "\n",
            "Test set: Average loss: 0.4237, Accuracy: 980/10000 (9.80%)\n",
            "\n"
          ]
        }
      ]
    },
    {
      "cell_type": "markdown",
      "source": [
        "# Plot graphs"
      ],
      "metadata": {
        "id": "KurYMT8kPJd-"
      }
    },
    {
      "cell_type": "code",
      "source": [
        "fig, axs = plt.subplots(2,1,figsize=(15,10))\n",
        "axs[0].plot(train_losses_group, color='red', label='groupNorm-trainLoss')\n",
        "axs[0].plot(train_losses_layer, color='blue', label='layerNorm-trainLoss')\n",
        "axs[0].plot(train_losses_batch, color='green', label='batchNorm-trainLoss')\n",
        "\n",
        "axs[0].plot(test_losses_group, color='orange', label='groupNorm-testLoss')\n",
        "axs[0].plot(test_losses_layer, color='purple', label='layerNorm-testLoss')\n",
        "axs[0].plot(test_losses_batch, color='brown', label='batchNorm-testLoss')\n",
        "axs[0].set_title(\"Test/Validation Loss\")\n",
        "axs[0].legend()\n",
        "\n",
        "axs[1].plot(train_acc_group[100:], color='red', label='groupNorm-trainAccuracy')\n",
        "axs[1].plot(train_acc_layer[100:], color='blue', label='layerNorm-trainAccuracy')\n",
        "axs[1].plot(train_acc_batch[100:], color='green', label='batchNorm-trainAccuracy')\n",
        "\n",
        "axs[1].plot(test_acc_group, color='orange', label='groupNorm-testAccuracy')\n",
        "axs[1].plot(test_acc_layer, color='purple', label='layerNorm-testAccuracy')\n",
        "axs[1].plot(test_acc_batch, color='brown', label='batchNorm-testAccuracy')\n",
        "axs[1].set_title(\"Test/Validation Accuracy\")\n",
        "axs[1].legend()\n"
      ],
      "metadata": {
        "id": "cLD-oAe9PIqF",
        "colab": {
          "base_uri": "https://localhost:8080/",
          "height": 624
        },
        "outputId": "db0a236e-a868-4fae-98f4-f4450d94a6ee"
      },
      "execution_count": 44,
      "outputs": [
        {
          "output_type": "execute_result",
          "data": {
            "text/plain": [
              "<matplotlib.legend.Legend at 0x7f4b7f175cd0>"
            ]
          },
          "metadata": {},
          "execution_count": 44
        },
        {
          "output_type": "display_data",
          "data": {
            "text/plain": [
              "<Figure size 1080x720 with 2 Axes>"
            ],
            "image/png": "[encoded data removed]"
          },
          "metadata": {
            "needs_background": "light"
          }
        }
      ]
    }
  ],
  "metadata": {
    "accelerator": "GPU",
    "colab": {
      "provenance": [],
      "include_colab_link": true
    },
    "gpuClass": "standard",
    "kernelspec": {
      "display_name": "Python 3",
      "name": "python3"
    }
  },
  "nbformat": 4,
  "nbformat_minor": 0
}